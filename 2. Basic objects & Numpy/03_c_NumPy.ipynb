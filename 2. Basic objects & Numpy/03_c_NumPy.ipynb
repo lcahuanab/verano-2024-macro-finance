{
 "cells": [
  {
   "cell_type": "markdown",
   "metadata": {},
   "source": [
    "# NumPy\n",
    "\n",
    "*   Instructor: Victor Fuentes Campos\n",
    "*   Curso: Fundamentos de Programación en Python para Macroeconomía y Finanzas\n",
    "*   Adapatado de las clases de [Carla Solís](https://github.com/ccsuehara/python_para_las_ccss/blob/main/Clase%202/tipos_operadores.ipynb) y [Alexander Quispe](https://github.com/alexanderquispe/QLAB_Summer_Python/blob/main/Lecture_2/Lecture_2.ipynb)\n",
    "\n",
    "\n",
    "Empecemos con un [video sencillo](https://www.youtube.com/watch?v=Tkv45wgxlEU)"
   ]
  },
  {
   "cell_type": "markdown",
   "metadata": {},
   "source": [
    "[NumPy](https://numpy.org/doc/stable/user/numpy-for-matlab-users.html) es la biblioteca central para la computación científica en Python. Proporciona un objeto array multidimensional de alto rendimiento y herramientas para trabajar con estos. Si ya estás familiarizado con MATLAB, es posible que encuentres útil este tutorial para comenzar con NumPy."
   ]
  },
  {
   "cell_type": "markdown",
   "metadata": {},
   "source": [
    "### Arrays\n",
    "Un array de NumPy es una cuadrícula de valores, todos del mismo tipo, y se indexa mediante tuples de enteros no negativos. El número de dimensiones es el rango del array; la forma (shape) de un array es un tuple de enteros que indica el tamaño del array a lo largo de cada dimensión."
   ]
  },
  {
   "cell_type": "markdown",
   "metadata": {},
   "source": [
    "No olviden instalar numpy: ```conda install numpy```"
   ]
  },
  {
   "cell_type": "code",
   "execution_count": 11,
   "metadata": {},
   "outputs": [],
   "source": [
    "import numpy as np"
   ]
  },
  {
   "cell_type": "code",
   "execution_count": 12,
   "metadata": {},
   "outputs": [],
   "source": [
    "a = np.array( [1, 2, 3, 4, 5] )"
   ]
  },
  {
   "cell_type": "code",
   "execution_count": 13,
   "metadata": {},
   "outputs": [
    {
     "data": {
      "text/plain": [
       "array([1, 2, 3, 4, 5])"
      ]
     },
     "execution_count": 13,
     "metadata": {},
     "output_type": "execute_result"
    }
   ],
   "source": [
    "a   "
   ]
  },
  {
   "cell_type": "code",
   "execution_count": 14,
   "metadata": {},
   "outputs": [
    {
     "data": {
      "text/plain": [
       "numpy.ndarray"
      ]
     },
     "execution_count": 14,
     "metadata": {},
     "output_type": "execute_result"
    }
   ],
   "source": [
    "type(a)"
   ]
  },
  {
   "cell_type": "code",
   "execution_count": 15,
   "metadata": {},
   "outputs": [
    {
     "name": "stdout",
     "output_type": "stream",
     "text": [
      "[1 2 3 4 5]\n"
     ]
    }
   ],
   "source": [
    "# 1D array\n",
    "a = np.array( [1, 2, 3, 4, 5] )\n",
    "print(a)"
   ]
  },
  {
   "cell_type": "code",
   "execution_count": 16,
   "metadata": {},
   "outputs": [
    {
     "name": "stdout",
     "output_type": "stream",
     "text": [
      "[[1 2 3]\n",
      " [4 5 6]]\n"
     ]
    }
   ],
   "source": [
    "# 2D array\n",
    "M = np.array( [ [1, 2, 3], [4, 5, 6] ] )\n",
    "\n",
    "print(M)"
   ]
  },
  {
   "cell_type": "code",
   "execution_count": 17,
   "metadata": {},
   "outputs": [
    {
     "data": {
      "text/plain": [
       "array([[1, 2, 3, 4],\n",
       "       [4, 5, 6, 7]])"
      ]
     },
     "execution_count": 17,
     "metadata": {},
     "output_type": "execute_result"
    }
   ],
   "source": [
    "X = np.array( [ [1, 2, 3, 4], [4, 5, 6, 7] ] )\n",
    "X"
   ]
  },
  {
   "cell_type": "markdown",
   "metadata": {},
   "source": [
    "|Function|\tDescription|\n",
    "| --- |--- |\n",
    "|np.array(a) |\tCreate -dimensional np array from sequence a|\n",
    "|np.linspace(a,b,N) |\tCreate 1D np array with N equally spaced values <br> from a to b (inclusively)|\n",
    "|np.arange(a,b,step) |\tCreate 1D np array with values from a to b (exclusively) <br> incremented by step|\n",
    "|np.zeros(N)\t| Create 1D np array of zeros of length |\n",
    "|np.zeros((n,m)) |\tCreate 2D np array of zeros with  rows and  columns|\n",
    "|np.ones(N) |\tCreate 1D np array of ones of length |\n",
    "|np.ones((n,m))|\tCreate 2D np array of ones with  rows and  columns|\n",
    "|np.eye(N)\t| Create 2D np array with  rows and  columns  <br> with ones on the diagonal  (ie. the identity matrix of size )|\n",
    "|np.concatenate( )|Join a sequence of arrays along an existing axis|\n",
    "|np.hstack( )|Stack arrays in sequence horizontally(column wise)|\n",
    "|np.vstack( )|Stack arrays in sequence vertically(row wise)|\n",
    "|np.column_stack( )|Stack 1-D arrays as columns into a 2-D array|\n",
    "|np.random.normal() | Draw random samples from a normal (Gaussian) distribution. |\n",
    "|np.linalg.inv() | Compute the (multiplicative) inverse of a matrix. |\n",
    "|np.dot() / @  | Matrix Multiplication. |"
   ]
  },
  {
   "cell_type": "code",
   "execution_count": 18,
   "metadata": {},
   "outputs": [
    {
     "name": "stdout",
     "output_type": "stream",
     "text": [
      "[0.  0.1 0.2 0.3 0.4 0.5 0.6 0.7 0.8 0.9 1. ]\n"
     ]
    }
   ],
   "source": [
    "# Create a 1D NumPy array with 11 equally spaced values from 0 to 1:\n",
    "x = np.linspace( 0, 1, 11 )\n",
    "print(x)"
   ]
  },
  {
   "cell_type": "code",
   "execution_count": 19,
   "metadata": {},
   "outputs": [
    {
     "name": "stdout",
     "output_type": "stream",
     "text": [
      "[ 0  3  6  9 12 15 18]\n"
     ]
    }
   ],
   "source": [
    "# Create a 1D NumPy array with values from 0 to 20 (exclusively) incremented by 5:\n",
    "y = np.arange( 0, 20, 3 )\n",
    "print(y)"
   ]
  },
  {
   "cell_type": "code",
   "execution_count": 20,
   "metadata": {},
   "outputs": [
    {
     "name": "stdout",
     "output_type": "stream",
     "text": [
      "[0. 0. 0. 0. 0. 0. 0. 0. 0. 0.]\n"
     ]
    }
   ],
   "source": [
    "# Create a 1D NumPy array of zeros of length 5:\n",
    "z = np.zeros(10)\n",
    "print(z)"
   ]
  },
  {
   "cell_type": "code",
   "execution_count": 21,
   "metadata": {},
   "outputs": [
    {
     "name": "stdout",
     "output_type": "stream",
     "text": [
      "[[0. 0. 0. 0. 0. 0. 0. 0. 0. 0.]\n",
      " [0. 0. 0. 0. 0. 0. 0. 0. 0. 0.]\n",
      " [0. 0. 0. 0. 0. 0. 0. 0. 0. 0.]\n",
      " [0. 0. 0. 0. 0. 0. 0. 0. 0. 0.]\n",
      " [0. 0. 0. 0. 0. 0. 0. 0. 0. 0.]\n",
      " [0. 0. 0. 0. 0. 0. 0. 0. 0. 0.]\n",
      " [0. 0. 0. 0. 0. 0. 0. 0. 0. 0.]\n",
      " [0. 0. 0. 0. 0. 0. 0. 0. 0. 0.]\n",
      " [0. 0. 0. 0. 0. 0. 0. 0. 0. 0.]\n",
      " [0. 0. 0. 0. 0. 0. 0. 0. 0. 0.]]\n"
     ]
    }
   ],
   "source": [
    "# Create a 2D NumPy array of zeros of shape ( 5, 10 ) :\n",
    "M = np.zeros( (10, 10) )\n",
    "print(M)"
   ]
  },
  {
   "cell_type": "code",
   "execution_count": 22,
   "metadata": {},
   "outputs": [
    {
     "name": "stdout",
     "output_type": "stream",
     "text": [
      "[1. 1. 1. 1. 1. 1. 1.]\n"
     ]
    }
   ],
   "source": [
    "# Create a 1D NumPy array of ones of length 7:\n",
    "w = np.ones(7)\n",
    "print(w)"
   ]
  },
  {
   "cell_type": "code",
   "execution_count": 23,
   "metadata": {},
   "outputs": [
    {
     "name": "stdout",
     "output_type": "stream",
     "text": [
      "[[1. 1. 1. 1. 1.]\n",
      " [1. 1. 1. 1. 1.]\n",
      " [1. 1. 1. 1. 1.]\n",
      " [1. 1. 1. 1. 1.]\n",
      " [1. 1. 1. 1. 1.]]\n"
     ]
    }
   ],
   "source": [
    "# Create a 2D NumPy array of ones with 35ows and 25 columns:\n",
    "N = np.ones( (5, 5) )\n",
    "print(N)"
   ]
  },
  {
   "cell_type": "code",
   "execution_count": 18,
   "metadata": {},
   "outputs": [
    {
     "data": {
      "text/plain": [
       "array([[1., 0., 0., 0., 0.],\n",
       "       [0., 1., 0., 0., 0.],\n",
       "       [0., 0., 1., 0., 0.],\n",
       "       [0., 0., 0., 1., 0.],\n",
       "       [0., 0., 0., 0., 1.]])"
      ]
     },
     "execution_count": 18,
     "metadata": {},
     "output_type": "execute_result"
    }
   ],
   "source": [
    "np.eye(5)"
   ]
  },
  {
   "cell_type": "code",
   "execution_count": 24,
   "metadata": {},
   "outputs": [
    {
     "name": "stdout",
     "output_type": "stream",
     "text": [
      "[[1. 0. 0. 0. 0. 0. 0. 0. 0. 0.]\n",
      " [0. 1. 0. 0. 0. 0. 0. 0. 0. 0.]\n",
      " [0. 0. 1. 0. 0. 0. 0. 0. 0. 0.]\n",
      " [0. 0. 0. 1. 0. 0. 0. 0. 0. 0.]\n",
      " [0. 0. 0. 0. 1. 0. 0. 0. 0. 0.]\n",
      " [0. 0. 0. 0. 0. 1. 0. 0. 0. 0.]\n",
      " [0. 0. 0. 0. 0. 0. 1. 0. 0. 0.]\n",
      " [0. 0. 0. 0. 0. 0. 0. 1. 0. 0.]\n",
      " [0. 0. 0. 0. 0. 0. 0. 0. 1. 0.]\n",
      " [0. 0. 0. 0. 0. 0. 0. 0. 0. 1.]]\n"
     ]
    }
   ],
   "source": [
    "# Create the identity matrix of size 10:\n",
    "I = np.eye(10)\n",
    "print(I)"
   ]
  },
  {
   "cell_type": "code",
   "execution_count": 25,
   "metadata": {},
   "outputs": [
    {
     "data": {
      "text/plain": [
       "(10, 10)"
      ]
     },
     "execution_count": 25,
     "metadata": {},
     "output_type": "execute_result"
    }
   ],
   "source": [
    "I.shape"
   ]
  },
  {
   "cell_type": "code",
   "execution_count": 26,
   "metadata": {},
   "outputs": [
    {
     "data": {
      "text/plain": [
       "100"
      ]
     },
     "execution_count": 26,
     "metadata": {},
     "output_type": "execute_result"
    }
   ],
   "source": [
    "I.size"
   ]
  },
  {
   "cell_type": "code",
   "execution_count": 27,
   "metadata": {},
   "outputs": [
    {
     "name": "stdout",
     "output_type": "stream",
     "text": [
      "(10, 10)\n"
     ]
    }
   ],
   "source": [
    "# Shape\n",
    "print( I.shape )"
   ]
  },
  {
   "cell_type": "code",
   "execution_count": 28,
   "metadata": {},
   "outputs": [
    {
     "name": "stdout",
     "output_type": "stream",
     "text": [
      "100\n"
     ]
    }
   ],
   "source": [
    "# Size\n",
    "print(I.size)"
   ]
  },
  {
   "cell_type": "code",
   "execution_count": 29,
   "metadata": {},
   "outputs": [
    {
     "data": {
      "text/plain": [
       "array([[5, 6],\n",
       "       [7, 8]])"
      ]
     },
     "execution_count": 29,
     "metadata": {},
     "output_type": "execute_result"
    }
   ],
   "source": [
    "# Concateante\n",
    "g = np.array([[5,6],[7,8]])\n",
    "g"
   ]
  },
  {
   "cell_type": "code",
   "execution_count": 30,
   "metadata": {},
   "outputs": [
    {
     "data": {
      "text/plain": [
       "array([[1, 2]])"
      ]
     },
     "execution_count": 30,
     "metadata": {},
     "output_type": "execute_result"
    }
   ],
   "source": [
    "h = np.array([[1,2]])\n",
    "h"
   ]
  },
  {
   "cell_type": "code",
   "execution_count": 31,
   "metadata": {},
   "outputs": [
    {
     "name": "stdout",
     "output_type": "stream",
     "text": [
      "[[5 6]\n",
      " [7 8]] \n",
      "\n",
      "[[1 2]] \n",
      "\n"
     ]
    }
   ],
   "source": [
    "print(g, \"\\n\")\n",
    "print(h , \"\\n\")"
   ]
  },
  {
   "cell_type": "code",
   "execution_count": 32,
   "metadata": {},
   "outputs": [
    {
     "data": {
      "text/plain": [
       "(2, 2)"
      ]
     },
     "execution_count": 32,
     "metadata": {},
     "output_type": "execute_result"
    }
   ],
   "source": [
    "g.shape"
   ]
  },
  {
   "cell_type": "code",
   "execution_count": 33,
   "metadata": {},
   "outputs": [
    {
     "data": {
      "text/plain": [
       "(1, 2)"
      ]
     },
     "execution_count": 33,
     "metadata": {},
     "output_type": "execute_result"
    }
   ],
   "source": [
    "h.shape"
   ]
  },
  {
   "cell_type": "code",
   "execution_count": 35,
   "metadata": {},
   "outputs": [
    {
     "data": {
      "text/plain": [
       "array([[5, 6],\n",
       "       [7, 8],\n",
       "       [1, 2]])"
      ]
     },
     "execution_count": 35,
     "metadata": {},
     "output_type": "execute_result"
    }
   ],
   "source": [
    "np.concatenate( (g, h) , axis = 0)"
   ]
  },
  {
   "cell_type": "code",
   "execution_count": 36,
   "metadata": {},
   "outputs": [
    {
     "data": {
      "text/plain": [
       "array([[1],\n",
       "       [2]])"
      ]
     },
     "execution_count": 36,
     "metadata": {},
     "output_type": "execute_result"
    }
   ],
   "source": [
    "h_2 = h.reshape(2, 1)\n",
    "h_2"
   ]
  },
  {
   "cell_type": "code",
   "execution_count": 37,
   "metadata": {},
   "outputs": [
    {
     "name": "stdout",
     "output_type": "stream",
     "text": [
      "[[1]\n",
      " [2]] \n",
      "\n"
     ]
    }
   ],
   "source": [
    "print(h_2 , \"\\n\")"
   ]
  },
  {
   "cell_type": "code",
   "execution_count": 38,
   "metadata": {},
   "outputs": [
    {
     "data": {
      "text/plain": [
       "array([[5, 6],\n",
       "       [7, 8]])"
      ]
     },
     "execution_count": 38,
     "metadata": {},
     "output_type": "execute_result"
    }
   ],
   "source": [
    "g"
   ]
  },
  {
   "cell_type": "code",
   "execution_count": 39,
   "metadata": {},
   "outputs": [
    {
     "data": {
      "text/plain": [
       "array([[5, 6, 1],\n",
       "       [7, 8, 2]])"
      ]
     },
     "execution_count": 39,
     "metadata": {},
     "output_type": "execute_result"
    }
   ],
   "source": [
    "np.concatenate((g, h_2), axis = 1)"
   ]
  },
  {
   "cell_type": "code",
   "execution_count": 40,
   "metadata": {},
   "outputs": [
    {
     "data": {
      "text/plain": [
       "array([[5, 6, 1],\n",
       "       [7, 8, 2]])"
      ]
     },
     "execution_count": 40,
     "metadata": {},
     "output_type": "execute_result"
    }
   ],
   "source": [
    "g_h = np.concatenate((g, h_2), axis = 1)\n",
    "g_h"
   ]
  },
  {
   "cell_type": "code",
   "execution_count": 42,
   "metadata": {},
   "outputs": [
    {
     "data": {
      "text/plain": [
       "array([[1],\n",
       "       [2]])"
      ]
     },
     "execution_count": 42,
     "metadata": {},
     "output_type": "execute_result"
    }
   ],
   "source": [
    "h_2 = h.reshape(2, 1)\n",
    "h_2"
   ]
  },
  {
   "cell_type": "code",
   "execution_count": 44,
   "metadata": {},
   "outputs": [
    {
     "data": {
      "text/plain": [
       "array([[5, 6, 1],\n",
       "       [7, 8, 2]])"
      ]
     },
     "execution_count": 44,
     "metadata": {},
     "output_type": "execute_result"
    }
   ],
   "source": [
    "sett = np.hstack((g,h_2))\n",
    "sett"
   ]
  },
  {
   "cell_type": "code",
   "execution_count": 51,
   "metadata": {},
   "outputs": [],
   "source": [
    "# vstack \n",
    "x = np.array([1,1,1])\n",
    "y = np.array([2,2,2])\n",
    "z = np.array([3,3,3])"
   ]
  },
  {
   "cell_type": "code",
   "execution_count": 46,
   "metadata": {},
   "outputs": [
    {
     "data": {
      "text/plain": [
       "array([3, 3, 3])"
      ]
     },
     "execution_count": 46,
     "metadata": {},
     "output_type": "execute_result"
    }
   ],
   "source": [
    "z"
   ]
  },
  {
   "cell_type": "code",
   "execution_count": 54,
   "metadata": {},
   "outputs": [
    {
     "data": {
      "text/plain": [
       "array([[1, 1, 1],\n",
       "       [2, 2, 2],\n",
       "       [3, 3, 3]])"
      ]
     },
     "execution_count": 54,
     "metadata": {},
     "output_type": "execute_result"
    }
   ],
   "source": [
    "vstacked = np.vstack( (x, y, z) )\n",
    "vstacked"
   ]
  },
  {
   "cell_type": "code",
   "execution_count": 53,
   "metadata": {},
   "outputs": [
    {
     "data": {
      "text/plain": [
       "(3, 3)"
      ]
     },
     "execution_count": 53,
     "metadata": {},
     "output_type": "execute_result"
    }
   ],
   "source": [
    "vstacked.shape"
   ]
  },
  {
   "cell_type": "code",
   "execution_count": 52,
   "metadata": {},
   "outputs": [
    {
     "name": "stdout",
     "output_type": "stream",
     "text": [
      "[[1 1 1]\n",
      " [2 2 2]\n",
      " [3 3 3]]\n"
     ]
    }
   ],
   "source": [
    "vstacked = np.vstack((x,y,z))\n",
    "print(vstacked)"
   ]
  },
  {
   "cell_type": "code",
   "execution_count": 55,
   "metadata": {},
   "outputs": [
    {
     "name": "stdout",
     "output_type": "stream",
     "text": [
      "[1 1 1 2 2 2 3 3 3]\n"
     ]
    }
   ],
   "source": [
    "# hstack \n",
    "hstacked = np.hstack((x,y,z))\n",
    "print(hstacked)"
   ]
  },
  {
   "cell_type": "markdown",
   "metadata": {},
   "source": [
    "### OLS con NumPy"
   ]
  },
  {
   "cell_type": "code",
   "execution_count": 57,
   "metadata": {},
   "outputs": [
    {
     "data": {
      "text/plain": [
       "(200, 2)"
      ]
     },
     "execution_count": 57,
     "metadata": {},
     "output_type": "execute_result"
    }
   ],
   "source": [
    "# X data generation\n",
    "n_data = 200\n",
    "x1 = np.linspace(200, 500, n_data)\n",
    "x0 = np.ones(n_data)\n",
    "X = np.hstack(( x0.reshape(-1, 1 ) , x1.reshape(-1, 1 ) ))\n",
    "X.shape"
   ]
  },
  {
   "cell_type": "code",
   "execution_count": 58,
   "metadata": {},
   "outputs": [
    {
     "data": {
      "text/plain": [
       "(2, 1)"
      ]
     },
     "execution_count": 58,
     "metadata": {},
     "output_type": "execute_result"
    }
   ],
   "source": [
    "# select parameters\n",
    "beta = np.array([5, -2]).reshape(-1, 1 )\n",
    "beta.shape"
   ]
  },
  {
   "cell_type": "code",
   "execution_count": 59,
   "metadata": {},
   "outputs": [
    {
     "data": {
      "text/plain": [
       "(200, 1)"
      ]
     },
     "execution_count": 59,
     "metadata": {},
     "output_type": "execute_result"
    }
   ],
   "source": [
    "# y ture\n",
    "y_true = X @ beta\n",
    "y_true.shape"
   ]
  },
  {
   "cell_type": "code",
   "execution_count": 60,
   "metadata": {},
   "outputs": [
    {
     "data": {
      "text/plain": [
       "array([[-395.        ],\n",
       "       [-398.01507538],\n",
       "       [-401.03015075],\n",
       "       [-404.04522613],\n",
       "       [-407.06030151],\n",
       "       [-410.07537688],\n",
       "       [-413.09045226],\n",
       "       [-416.10552764],\n",
       "       [-419.12060302],\n",
       "       [-422.13567839],\n",
       "       [-425.15075377],\n",
       "       [-428.16582915],\n",
       "       [-431.18090452],\n",
       "       [-434.1959799 ],\n",
       "       [-437.21105528],\n",
       "       [-440.22613065],\n",
       "       [-443.24120603],\n",
       "       [-446.25628141],\n",
       "       [-449.27135678],\n",
       "       [-452.28643216],\n",
       "       [-455.30150754],\n",
       "       [-458.31658291],\n",
       "       [-461.33165829],\n",
       "       [-464.34673367],\n",
       "       [-467.36180905],\n",
       "       [-470.37688442],\n",
       "       [-473.3919598 ],\n",
       "       [-476.40703518],\n",
       "       [-479.42211055],\n",
       "       [-482.43718593],\n",
       "       [-485.45226131],\n",
       "       [-488.46733668],\n",
       "       [-491.48241206],\n",
       "       [-494.49748744],\n",
       "       [-497.51256281],\n",
       "       [-500.52763819],\n",
       "       [-503.54271357],\n",
       "       [-506.55778894],\n",
       "       [-509.57286432],\n",
       "       [-512.5879397 ],\n",
       "       [-515.60301508],\n",
       "       [-518.61809045],\n",
       "       [-521.63316583],\n",
       "       [-524.64824121],\n",
       "       [-527.66331658],\n",
       "       [-530.67839196],\n",
       "       [-533.69346734],\n",
       "       [-536.70854271],\n",
       "       [-539.72361809],\n",
       "       [-542.73869347],\n",
       "       [-545.75376884],\n",
       "       [-548.76884422],\n",
       "       [-551.7839196 ],\n",
       "       [-554.79899497],\n",
       "       [-557.81407035],\n",
       "       [-560.82914573],\n",
       "       [-563.84422111],\n",
       "       [-566.85929648],\n",
       "       [-569.87437186],\n",
       "       [-572.88944724],\n",
       "       [-575.90452261],\n",
       "       [-578.91959799],\n",
       "       [-581.93467337],\n",
       "       [-584.94974874],\n",
       "       [-587.96482412],\n",
       "       [-590.9798995 ],\n",
       "       [-593.99497487],\n",
       "       [-597.01005025],\n",
       "       [-600.02512563],\n",
       "       [-603.04020101],\n",
       "       [-606.05527638],\n",
       "       [-609.07035176],\n",
       "       [-612.08542714],\n",
       "       [-615.10050251],\n",
       "       [-618.11557789],\n",
       "       [-621.13065327],\n",
       "       [-624.14572864],\n",
       "       [-627.16080402],\n",
       "       [-630.1758794 ],\n",
       "       [-633.19095477],\n",
       "       [-636.20603015],\n",
       "       [-639.22110553],\n",
       "       [-642.2361809 ],\n",
       "       [-645.25125628],\n",
       "       [-648.26633166],\n",
       "       [-651.28140704],\n",
       "       [-654.29648241],\n",
       "       [-657.31155779],\n",
       "       [-660.32663317],\n",
       "       [-663.34170854],\n",
       "       [-666.35678392],\n",
       "       [-669.3718593 ],\n",
       "       [-672.38693467],\n",
       "       [-675.40201005],\n",
       "       [-678.41708543],\n",
       "       [-681.4321608 ],\n",
       "       [-684.44723618],\n",
       "       [-687.46231156],\n",
       "       [-690.47738693],\n",
       "       [-693.49246231],\n",
       "       [-696.50753769],\n",
       "       [-699.52261307],\n",
       "       [-702.53768844],\n",
       "       [-705.55276382],\n",
       "       [-708.5678392 ],\n",
       "       [-711.58291457],\n",
       "       [-714.59798995],\n",
       "       [-717.61306533],\n",
       "       [-720.6281407 ],\n",
       "       [-723.64321608],\n",
       "       [-726.65829146],\n",
       "       [-729.67336683],\n",
       "       [-732.68844221],\n",
       "       [-735.70351759],\n",
       "       [-738.71859296],\n",
       "       [-741.73366834],\n",
       "       [-744.74874372],\n",
       "       [-747.7638191 ],\n",
       "       [-750.77889447],\n",
       "       [-753.79396985],\n",
       "       [-756.80904523],\n",
       "       [-759.8241206 ],\n",
       "       [-762.83919598],\n",
       "       [-765.85427136],\n",
       "       [-768.86934673],\n",
       "       [-771.88442211],\n",
       "       [-774.89949749],\n",
       "       [-777.91457286],\n",
       "       [-780.92964824],\n",
       "       [-783.94472362],\n",
       "       [-786.95979899],\n",
       "       [-789.97487437],\n",
       "       [-792.98994975],\n",
       "       [-796.00502513],\n",
       "       [-799.0201005 ],\n",
       "       [-802.03517588],\n",
       "       [-805.05025126],\n",
       "       [-808.06532663],\n",
       "       [-811.08040201],\n",
       "       [-814.09547739],\n",
       "       [-817.11055276],\n",
       "       [-820.12562814],\n",
       "       [-823.14070352],\n",
       "       [-826.15577889],\n",
       "       [-829.17085427],\n",
       "       [-832.18592965],\n",
       "       [-835.20100503],\n",
       "       [-838.2160804 ],\n",
       "       [-841.23115578],\n",
       "       [-844.24623116],\n",
       "       [-847.26130653],\n",
       "       [-850.27638191],\n",
       "       [-853.29145729],\n",
       "       [-856.30653266],\n",
       "       [-859.32160804],\n",
       "       [-862.33668342],\n",
       "       [-865.35175879],\n",
       "       [-868.36683417],\n",
       "       [-871.38190955],\n",
       "       [-874.39698492],\n",
       "       [-877.4120603 ],\n",
       "       [-880.42713568],\n",
       "       [-883.44221106],\n",
       "       [-886.45728643],\n",
       "       [-889.47236181],\n",
       "       [-892.48743719],\n",
       "       [-895.50251256],\n",
       "       [-898.51758794],\n",
       "       [-901.53266332],\n",
       "       [-904.54773869],\n",
       "       [-907.56281407],\n",
       "       [-910.57788945],\n",
       "       [-913.59296482],\n",
       "       [-916.6080402 ],\n",
       "       [-919.62311558],\n",
       "       [-922.63819095],\n",
       "       [-925.65326633],\n",
       "       [-928.66834171],\n",
       "       [-931.68341709],\n",
       "       [-934.69849246],\n",
       "       [-937.71356784],\n",
       "       [-940.72864322],\n",
       "       [-943.74371859],\n",
       "       [-946.75879397],\n",
       "       [-949.77386935],\n",
       "       [-952.78894472],\n",
       "       [-955.8040201 ],\n",
       "       [-958.81909548],\n",
       "       [-961.83417085],\n",
       "       [-964.84924623],\n",
       "       [-967.86432161],\n",
       "       [-970.87939698],\n",
       "       [-973.89447236],\n",
       "       [-976.90954774],\n",
       "       [-979.92462312],\n",
       "       [-982.93969849],\n",
       "       [-985.95477387],\n",
       "       [-988.96984925],\n",
       "       [-991.98492462],\n",
       "       [-995.        ]])"
      ]
     },
     "execution_count": 60,
     "metadata": {},
     "output_type": "execute_result"
    }
   ],
   "source": [
    "y_true"
   ]
  },
  {
   "cell_type": "code",
   "execution_count": 61,
   "metadata": {},
   "outputs": [
    {
     "data": {
      "text/plain": [
       "array([[ -400.07838467],\n",
       "       [ -408.25737461],\n",
       "       [ -420.01441788],\n",
       "       [ -421.66617727],\n",
       "       [ -398.12568195],\n",
       "       [ -417.10121061],\n",
       "       [ -418.65345609],\n",
       "       [ -407.1981793 ],\n",
       "       [ -417.74670862],\n",
       "       [ -454.47713567],\n",
       "       [ -419.68642308],\n",
       "       [ -452.50511091],\n",
       "       [ -477.24217998],\n",
       "       [ -464.24866364],\n",
       "       [ -434.05590822],\n",
       "       [ -447.96242819],\n",
       "       [ -413.54184257],\n",
       "       [ -436.40388691],\n",
       "       [ -418.14798198],\n",
       "       [ -462.12704213],\n",
       "       [ -478.25181923],\n",
       "       [ -463.87502234],\n",
       "       [ -441.53427546],\n",
       "       [ -453.65393339],\n",
       "       [ -458.29047521],\n",
       "       [ -452.80460665],\n",
       "       [ -482.43995592],\n",
       "       [ -502.24971831],\n",
       "       [ -521.40655379],\n",
       "       [ -484.62167862],\n",
       "       [ -485.00038687],\n",
       "       [ -487.60200662],\n",
       "       [ -525.91416837],\n",
       "       [ -499.65794287],\n",
       "       [ -518.9152001 ],\n",
       "       [ -510.34856954],\n",
       "       [ -523.03342231],\n",
       "       [ -511.68549615],\n",
       "       [ -515.09647441],\n",
       "       [ -519.1229515 ],\n",
       "       [ -505.21857786],\n",
       "       [ -533.47953179],\n",
       "       [ -522.99971882],\n",
       "       [ -541.96352481],\n",
       "       [ -536.10182224],\n",
       "       [ -516.07274345],\n",
       "       [ -555.3083736 ],\n",
       "       [ -503.61565672],\n",
       "       [ -521.79487822],\n",
       "       [ -539.14439073],\n",
       "       [ -537.74660817],\n",
       "       [ -534.0890239 ],\n",
       "       [ -533.33684006],\n",
       "       [ -569.2143582 ],\n",
       "       [ -550.26070062],\n",
       "       [ -511.23867969],\n",
       "       [ -546.01979554],\n",
       "       [ -589.80923553],\n",
       "       [ -543.48544361],\n",
       "       [ -547.73020659],\n",
       "       [ -571.8848074 ],\n",
       "       [ -581.98246327],\n",
       "       [ -584.94325242],\n",
       "       [ -595.59676468],\n",
       "       [ -600.18105742],\n",
       "       [ -589.12478805],\n",
       "       [ -597.85082936],\n",
       "       [ -611.47816877],\n",
       "       [ -621.73044172],\n",
       "       [ -614.30619659],\n",
       "       [ -616.68509993],\n",
       "       [ -608.60577273],\n",
       "       [ -643.55668015],\n",
       "       [ -581.83090349],\n",
       "       [ -605.70859175],\n",
       "       [ -603.6476041 ],\n",
       "       [ -620.15302521],\n",
       "       [ -613.08845478],\n",
       "       [ -654.16951538],\n",
       "       [ -610.52272505],\n",
       "       [ -661.34584385],\n",
       "       [ -615.5395147 ],\n",
       "       [ -641.60845648],\n",
       "       [ -672.06784274],\n",
       "       [ -642.60199542],\n",
       "       [ -654.9723197 ],\n",
       "       [ -678.47668897],\n",
       "       [ -645.16733559],\n",
       "       [ -648.15632537],\n",
       "       [ -656.51251247],\n",
       "       [ -638.00051397],\n",
       "       [ -632.35915658],\n",
       "       [ -659.98577895],\n",
       "       [ -713.74710964],\n",
       "       [ -690.10247742],\n",
       "       [ -694.19183057],\n",
       "       [ -657.80385395],\n",
       "       [ -692.67800669],\n",
       "       [ -702.68665843],\n",
       "       [ -698.61732245],\n",
       "       [ -709.86347578],\n",
       "       [ -700.35999826],\n",
       "       [ -712.06634759],\n",
       "       [ -681.69998053],\n",
       "       [ -707.77136687],\n",
       "       [ -731.5177586 ],\n",
       "       [ -685.36887844],\n",
       "       [ -730.70213632],\n",
       "       [ -735.79784349],\n",
       "       [ -731.81397675],\n",
       "       [ -730.52233465],\n",
       "       [ -745.73568533],\n",
       "       [ -728.34035472],\n",
       "       [ -758.66272983],\n",
       "       [ -765.48647466],\n",
       "       [ -743.32540931],\n",
       "       [ -760.54402   ],\n",
       "       [ -750.94595518],\n",
       "       [ -741.9227383 ],\n",
       "       [ -765.30854628],\n",
       "       [ -726.23346824],\n",
       "       [ -721.77597705],\n",
       "       [ -769.84878074],\n",
       "       [ -754.03388209],\n",
       "       [ -734.08016234],\n",
       "       [ -789.44003629],\n",
       "       [ -774.57035679],\n",
       "       [ -791.90828442],\n",
       "       [ -774.80518938],\n",
       "       [ -831.91504975],\n",
       "       [ -827.99645592],\n",
       "       [ -770.43421974],\n",
       "       [ -804.23130594],\n",
       "       [ -804.57499872],\n",
       "       [ -767.81080856],\n",
       "       [ -819.6057227 ],\n",
       "       [ -801.84170291],\n",
       "       [ -810.99177571],\n",
       "       [ -782.09940704],\n",
       "       [ -799.09418238],\n",
       "       [ -811.2209167 ],\n",
       "       [ -818.48752252],\n",
       "       [ -808.26462082],\n",
       "       [ -843.46139217],\n",
       "       [ -819.01505954],\n",
       "       [ -817.329169  ],\n",
       "       [ -845.07535552],\n",
       "       [ -808.95917196],\n",
       "       [ -813.77114297],\n",
       "       [ -855.0858879 ],\n",
       "       [ -855.37861878],\n",
       "       [ -856.79104284],\n",
       "       [ -846.37574353],\n",
       "       [ -860.37165493],\n",
       "       [ -853.64043778],\n",
       "       [ -870.22294592],\n",
       "       [ -894.95457016],\n",
       "       [ -832.39704667],\n",
       "       [ -840.01189068],\n",
       "       [ -887.54498837],\n",
       "       [ -887.7271257 ],\n",
       "       [ -889.1815197 ],\n",
       "       [ -885.36828747],\n",
       "       [ -886.57475753],\n",
       "       [ -887.17098591],\n",
       "       [ -887.45941537],\n",
       "       [ -900.49972679],\n",
       "       [ -875.60234219],\n",
       "       [ -940.7971847 ],\n",
       "       [ -939.67930549],\n",
       "       [ -930.80532685],\n",
       "       [ -937.08142872],\n",
       "       [ -919.93603882],\n",
       "       [ -910.04453999],\n",
       "       [ -905.89633856],\n",
       "       [ -933.88976803],\n",
       "       [ -873.35404098],\n",
       "       [ -938.63256051],\n",
       "       [ -904.7236191 ],\n",
       "       [ -940.01485019],\n",
       "       [ -910.13114252],\n",
       "       [ -962.04621622],\n",
       "       [ -926.78855779],\n",
       "       [ -931.65752385],\n",
       "       [ -958.9749381 ],\n",
       "       [ -974.08598104],\n",
       "       [ -943.41575654],\n",
       "       [ -947.44463173],\n",
       "       [ -981.89688897],\n",
       "       [ -938.87821753],\n",
       "       [ -994.4780445 ],\n",
       "       [ -941.42597088],\n",
       "       [ -952.42579968],\n",
       "       [ -971.83373896],\n",
       "       [ -975.9256806 ],\n",
       "       [ -989.50996423],\n",
       "       [-1016.01824167],\n",
       "       [ -981.68984009],\n",
       "       [ -974.23468532],\n",
       "       [-1007.59823009]])"
      ]
     },
     "execution_count": 61,
     "metadata": {},
     "output_type": "execute_result"
    }
   ],
   "source": [
    "y_true + (np.random.normal(0, 1, n_data) * 20).reshape(-1, 1)"
   ]
  },
  {
   "cell_type": "code",
   "execution_count": 62,
   "metadata": {},
   "outputs": [
    {
     "name": "stdout",
     "output_type": "stream",
     "text": [
      "[[-373.58267242]\n",
      " [-400.94725467]\n",
      " [-402.849476  ]\n",
      " [-399.18156112]]\n"
     ]
    }
   ],
   "source": [
    "#   add random normal noise\n",
    "sigma = 20\n",
    "y_actual = y_true + (np.random.normal(0, 1, n_data) * sigma).reshape(-1, 1)\n",
    "print(y_actual[0:4, :])"
   ]
  },
  {
   "cell_type": "markdown",
   "metadata": {},
   "source": [
    "The matrix equation for the estimated linear parameters is as below:\n",
    "$${\\hat {\\beta }}=(X^{T}X)^{-1}X^{T}y.$$"
   ]
  },
  {
   "cell_type": "code",
   "execution_count": 63,
   "metadata": {},
   "outputs": [],
   "source": [
    "# estimations\n",
    "beta_estimated = np.linalg.inv(X.T @ X) @ X.T @ y_actual"
   ]
  },
  {
   "cell_type": "code",
   "execution_count": 65,
   "metadata": {},
   "outputs": [
    {
     "name": "stderr",
     "output_type": "stream",
     "text": [
      "/var/folders/v3/40svjrx14hq103xfyw7qhzsh0000gn/T/ipykernel_14238/3055057328.py:4: UserWarning: color is redundantly defined by the 'color' keyword argument and the fmt string \"g-\" (-> color='g'). The keyword argument will take precedence.\n",
      "  plt.plot(x1, y_true, 'g-', c = 'black')\n"
     ]
    },
    {
     "data": {
      "text/plain": [
       "[<matplotlib.lines.Line2D at 0x124f09510>]"
      ]
     },
     "execution_count": 65,
     "metadata": {},
     "output_type": "execute_result"
    },
    {
     "data": {
      "image/png": "[encoded data removed]",
      "text/plain": [
       "<Figure size 640x480 with 1 Axes>"
      ]
     },
     "metadata": {},
     "output_type": "display_data"
    }
   ],
   "source": [
    "import matplotlib.pyplot as plt\n",
    "\n",
    "plt.plot(x1, y_actual, 'o')\n",
    "plt.plot(x1, y_true, 'g-', c = 'black')"
   ]
  },
  {
   "cell_type": "markdown",
   "metadata": {},
   "source": [
    "Calculate the sum of squared residual errors\n",
    "$$\n",
    "RSS=y^{T}y-y^{T}X(X^{T}X)^{{-1}}X^{T}y\n",
    "$$"
   ]
  },
  {
   "cell_type": "code",
   "execution_count": 66,
   "metadata": {},
   "outputs": [
    {
     "data": {
      "text/plain": [
       "array([[ -373.58267242],\n",
       "       [ -400.94725467],\n",
       "       [ -402.849476  ],\n",
       "       [ -399.18156112],\n",
       "       [ -396.70227597],\n",
       "       [ -392.11971604],\n",
       "       [ -359.81156957],\n",
       "       [ -385.7715018 ],\n",
       "       [ -420.88041775],\n",
       "       [ -432.1034251 ],\n",
       "       [ -396.78232855],\n",
       "       [ -449.62587715],\n",
       "       [ -489.21370795],\n",
       "       [ -434.46466735],\n",
       "       [ -432.6614879 ],\n",
       "       [ -443.9325369 ],\n",
       "       [ -430.89151   ],\n",
       "       [ -453.63850804],\n",
       "       [ -462.96702887],\n",
       "       [ -429.00919954],\n",
       "       [ -446.42673704],\n",
       "       [ -445.52668711],\n",
       "       [ -460.93226678],\n",
       "       [ -422.64572568],\n",
       "       [ -471.19988391],\n",
       "       [ -500.336297  ],\n",
       "       [ -492.52230556],\n",
       "       [ -481.82815113],\n",
       "       [ -499.29426404],\n",
       "       [ -460.98676728],\n",
       "       [ -533.59678797],\n",
       "       [ -476.79409143],\n",
       "       [ -487.83095127],\n",
       "       [ -515.12282205],\n",
       "       [ -473.7125394 ],\n",
       "       [ -481.62533638],\n",
       "       [ -524.34843799],\n",
       "       [ -487.70800874],\n",
       "       [ -519.26006181],\n",
       "       [ -485.14881772],\n",
       "       [ -497.39648883],\n",
       "       [ -533.48542901],\n",
       "       [ -531.57312089],\n",
       "       [ -537.56871518],\n",
       "       [ -525.77281963],\n",
       "       [ -516.29976335],\n",
       "       [ -535.60816098],\n",
       "       [ -533.05561674],\n",
       "       [ -538.50141791],\n",
       "       [ -516.47207885],\n",
       "       [ -540.84974492],\n",
       "       [ -530.54760814],\n",
       "       [ -548.51593416],\n",
       "       [ -545.61564326],\n",
       "       [ -561.92222972],\n",
       "       [ -535.75224255],\n",
       "       [ -561.63841349],\n",
       "       [ -556.86664134],\n",
       "       [ -578.93621169],\n",
       "       [ -533.68692165],\n",
       "       [ -568.23840297],\n",
       "       [ -569.68468096],\n",
       "       [ -592.26726308],\n",
       "       [ -582.69611357],\n",
       "       [ -610.46279702],\n",
       "       [ -568.67859404],\n",
       "       [ -588.4975848 ],\n",
       "       [ -585.96877035],\n",
       "       [ -578.61737304],\n",
       "       [ -621.02618315],\n",
       "       [ -615.13883956],\n",
       "       [ -639.51977535],\n",
       "       [ -641.12361295],\n",
       "       [ -619.01167424],\n",
       "       [ -640.36185093],\n",
       "       [ -630.80742533],\n",
       "       [ -619.93710488],\n",
       "       [ -649.54189946],\n",
       "       [ -621.9670717 ],\n",
       "       [ -642.87602807],\n",
       "       [ -647.71894738],\n",
       "       [ -617.01659205],\n",
       "       [ -636.36074754],\n",
       "       [ -657.8828445 ],\n",
       "       [ -629.82658622],\n",
       "       [ -639.08940391],\n",
       "       [ -663.18019667],\n",
       "       [ -681.03733357],\n",
       "       [ -658.68876302],\n",
       "       [ -659.21257296],\n",
       "       [ -699.53810708],\n",
       "       [ -641.69559895],\n",
       "       [ -672.98372756],\n",
       "       [ -674.05450371],\n",
       "       [ -702.2586465 ],\n",
       "       [ -696.53745659],\n",
       "       [ -672.39267079],\n",
       "       [ -673.2459906 ],\n",
       "       [ -666.81101993],\n",
       "       [ -707.4234632 ],\n",
       "       [ -708.46709191],\n",
       "       [ -714.45634124],\n",
       "       [ -678.63277278],\n",
       "       [ -700.97437393],\n",
       "       [ -701.01540704],\n",
       "       [ -727.24729252],\n",
       "       [ -701.77839232],\n",
       "       [ -714.06804507],\n",
       "       [ -693.09668768],\n",
       "       [ -760.51975215],\n",
       "       [ -722.17416724],\n",
       "       [ -717.59658953],\n",
       "       [ -696.53500101],\n",
       "       [ -744.89799074],\n",
       "       [ -704.68282463],\n",
       "       [ -736.69285054],\n",
       "       [ -748.03376614],\n",
       "       [ -778.65396032],\n",
       "       [ -732.43913172],\n",
       "       [ -755.43717195],\n",
       "       [ -774.68803426],\n",
       "       [ -765.32852954],\n",
       "       [ -784.9040288 ],\n",
       "       [ -750.59298374],\n",
       "       [ -738.21380636],\n",
       "       [ -762.74518899],\n",
       "       [ -782.52354997],\n",
       "       [ -793.11875275],\n",
       "       [ -769.16816598],\n",
       "       [ -840.82104673],\n",
       "       [ -804.6467904 ],\n",
       "       [ -785.6530381 ],\n",
       "       [ -779.0588769 ],\n",
       "       [ -791.97699024],\n",
       "       [ -804.42471635],\n",
       "       [ -792.60692489],\n",
       "       [ -810.13303098],\n",
       "       [ -791.84176415],\n",
       "       [ -811.79263708],\n",
       "       [ -814.34493462],\n",
       "       [ -778.58798182],\n",
       "       [ -819.25166143],\n",
       "       [ -822.15956531],\n",
       "       [ -799.85625962],\n",
       "       [ -839.44785556],\n",
       "       [ -849.84104856],\n",
       "       [ -810.75728721],\n",
       "       [ -821.84660206],\n",
       "       [ -842.72963478],\n",
       "       [ -824.66950366],\n",
       "       [ -849.604365  ],\n",
       "       [ -850.02929509],\n",
       "       [ -852.45268846],\n",
       "       [ -856.99962381],\n",
       "       [ -858.18089191],\n",
       "       [ -802.49015972],\n",
       "       [ -880.44847905],\n",
       "       [ -870.57114357],\n",
       "       [ -864.91211344],\n",
       "       [ -817.83004068],\n",
       "       [ -853.35822702],\n",
       "       [ -846.00742876],\n",
       "       [ -876.81729166],\n",
       "       [ -851.76517424],\n",
       "       [ -899.92955261],\n",
       "       [ -902.93935062],\n",
       "       [ -913.9715666 ],\n",
       "       [ -883.45546447],\n",
       "       [ -891.14192248],\n",
       "       [ -902.19193468],\n",
       "       [ -866.44819096],\n",
       "       [ -928.97636254],\n",
       "       [ -959.25318036],\n",
       "       [ -898.50747973],\n",
       "       [ -942.42362004],\n",
       "       [ -928.74322232],\n",
       "       [ -930.72466137],\n",
       "       [ -881.73542164],\n",
       "       [ -924.82791242],\n",
       "       [ -927.47579497],\n",
       "       [ -966.43802608],\n",
       "       [ -931.45765316],\n",
       "       [ -969.50353399],\n",
       "       [ -918.36441045],\n",
       "       [ -984.18488128],\n",
       "       [ -964.65029379],\n",
       "       [ -968.9203567 ],\n",
       "       [ -965.89575859],\n",
       "       [ -962.65710583],\n",
       "       [ -946.952894  ],\n",
       "       [ -970.82112253],\n",
       "       [ -943.92659896],\n",
       "       [ -953.26032914],\n",
       "       [ -982.03072083],\n",
       "       [ -988.13551728],\n",
       "       [ -971.39129217],\n",
       "       [ -990.81365032],\n",
       "       [ -988.37620415],\n",
       "       [ -992.37674143],\n",
       "       [-1006.08525055]])"
      ]
     },
     "execution_count": 66,
     "metadata": {},
     "output_type": "execute_result"
    }
   ],
   "source": [
    "y_actual"
   ]
  },
  {
   "cell_type": "code",
   "execution_count": 67,
   "metadata": {},
   "outputs": [],
   "source": [
    "RSS = ( y_actual.T @ y_actual - y_actual.T @ X @ np.linalg.inv(X.T @ X) @ X.T @ y_actual )"
   ]
  },
  {
   "cell_type": "markdown",
   "metadata": {},
   "source": [
    "Calculated the Total Sum of Squares of the spread of the actual (noisy) values around their mean\n",
    "$$\n",
    "TSS=(y-{\\bar  y})^{T}(y-{\\bar  y})=y^{T}y-2y^{T}{\\bar  y}+{\\bar  y}^{T}{\\bar  y}\n",
    "$$"
   ]
  },
  {
   "cell_type": "code",
   "execution_count": 68,
   "metadata": {},
   "outputs": [
    {
     "data": {
      "text/plain": [
       "array([[6124763.53197082]])"
      ]
     },
     "execution_count": 68,
     "metadata": {},
     "output_type": "execute_result"
    }
   ],
   "source": [
    "y_mean = ( np.ones(n_data) * np.mean(y_actual) ).reshape( -1 , 1 )\n",
    "TSS = (y_actual - y_mean).T @ (y_actual - y_mean)\n",
    "TSS"
   ]
  },
  {
   "cell_type": "code",
   "execution_count": 69,
   "metadata": {},
   "outputs": [],
   "source": [
    "# get predictions\n",
    "y_pred = X @ beta_estimated"
   ]
  },
  {
   "cell_type": "markdown",
   "metadata": {},
   "source": [
    "Calculate the Sum of Squares of the spread of the predictions around their mean.\n",
    "$$\n",
    "ESS=({\\hat  y}-{\\bar  y})^{T}({\\hat  y}-{\\bar  y})={\\hat  y}^{T}{\\hat  y}-2{\\hat  y}^{T}{\\bar  y}+{\\bar  y}^{T}{\\bar  y}\n",
    "$$"
   ]
  },
  {
   "cell_type": "code",
   "execution_count": 70,
   "metadata": {},
   "outputs": [
    {
     "data": {
      "text/plain": [
       "array([[6047835.45911056]])"
      ]
     },
     "execution_count": 70,
     "metadata": {},
     "output_type": "execute_result"
    }
   ],
   "source": [
    "ESS = (y_pred - y_mean).T @ (y_pred - y_mean)\n",
    "\n",
    "ESS"
   ]
  },
  {
   "cell_type": "code",
   "execution_count": 71,
   "metadata": {},
   "outputs": [
    {
     "data": {
      "text/plain": [
       "(array([[6124763.53197082]]), array([[6124763.53197103]]))"
      ]
     },
     "execution_count": 71,
     "metadata": {},
     "output_type": "execute_result"
    }
   ],
   "source": [
    "TSS, ESS + RSS"
   ]
  },
  {
   "cell_type": "markdown",
   "metadata": {},
   "source": [
    "Get $R^2$\n",
    "$$\n",
    "1 - RSS / TSS\n",
    "$$"
   ]
  },
  {
   "cell_type": "code",
   "execution_count": 72,
   "metadata": {},
   "outputs": [
    {
     "data": {
      "text/plain": [
       "array([[0.98743983]])"
      ]
     },
     "execution_count": 72,
     "metadata": {},
     "output_type": "execute_result"
    }
   ],
   "source": [
    "1 - RSS / TSS"
   ]
  },
  {
   "cell_type": "markdown",
   "metadata": {},
   "source": [
    "###  SE\n",
    "Calculate the standard error of the regression. We divide by `(n-2)`, because the Expectation of the sum of squares is `(n-2)*sigma^2`."
   ]
  },
  {
   "cell_type": "code",
   "execution_count": 73,
   "metadata": {},
   "outputs": [
    {
     "data": {
      "text/plain": [
       "array([[19.71105326]])"
      ]
     },
     "execution_count": 73,
     "metadata": {},
     "output_type": "execute_result"
    }
   ],
   "source": [
    "sr2 = ( (1 / (n_data - 2)) * (y_pred - y_actual).T  @ (y_pred - y_actual))\n",
    "sr = np.sqrt(sr2)\n",
    "sr"
   ]
  },
  {
   "cell_type": "markdown",
   "metadata": {},
   "source": [
    "### Var-Cov\n",
    "In order to get the standard errors for our linear parameters, we use the matrix formula below:\n",
    "$$\n",
    "Var(β^)=σ^2(X′X)^{-1}\n",
    "$$"
   ]
  },
  {
   "cell_type": "code",
   "execution_count": 74,
   "metadata": {},
   "outputs": [
    {
     "data": {
      "text/plain": [
       "array([[ 3.33565031e+01, -8.97539286e-02],\n",
       "       [-8.97539286e-02,  2.56439796e-04]])"
      ]
     },
     "execution_count": 74,
     "metadata": {},
     "output_type": "execute_result"
    }
   ],
   "source": [
    "var_beta = sr2 * np.linalg.inv(X.T @ X)\n",
    "var_beta"
   ]
  },
  {
   "cell_type": "code",
   "execution_count": 75,
   "metadata": {},
   "outputs": [
    {
     "name": "stdout",
     "output_type": "stream",
     "text": [
      "Std Error for b0 5.775508904605565, \n",
      "Std Error for b1 0.01601373772597409\n"
     ]
    }
   ],
   "source": [
    "print(\n",
    "    f'Std Error for b0 {np.sqrt(var_beta[0, 0])}, \\nStd Error for b1 {np.sqrt(var_beta[1, 1])}'\n",
    ")"
   ]
  }
 ],
 "metadata": {
  "hide_input": false,
  "kernelspec": {
   "display_name": "Python 3 (ipykernel)",
   "language": "python",
   "name": "python3"
  },
  "language_info": {
   "codemirror_mode": {
    "name": "ipython",
    "version": 3
   },
   "file_extension": ".py",
   "mimetype": "text/x-python",
   "name": "python",
   "nbconvert_exporter": "python",
   "pygments_lexer": "ipython3",
   "version": "3.11.7"
  },
  "vscode": {
   "interpreter": {
    "hash": "b247a10ecbbbecc6838db24cf0cac95fbd318f0e8104436862772c94dc5e78c9"
   }
  }
 },
 "nbformat": 4,
 "nbformat_minor": 4
}
