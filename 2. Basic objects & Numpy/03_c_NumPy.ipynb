{
 "cells": [
  {
   "cell_type": "markdown",
   "metadata": {},
   "source": [
    "# NumPy\n",
    "\n",
    "*   Instructor: Victor Fuentes Campos\n",
    "*   Curso: Fundamentos de Programación en Python para Macroeconomía y Finanzas\n",
    "*   Adapatado de las clases de [Carla Solís](https://github.com/ccsuehara/python_para_las_ccss/blob/main/Clase%202/tipos_operadores.ipynb) y [Alexander Quispe](https://github.com/alexanderquispe/QLAB_Summer_Python/blob/main/Lecture_2/Lecture_2.ipynb)\n",
    "\n",
    "\n",
    "Empecemos con un [video sencillo](https://www.youtube.com/watch?v=Tkv45wgxlEU)"
   ]
  },
  {
   "cell_type": "markdown",
   "metadata": {},
   "source": [
    "> En adelante, empezamos a usar librarías de Python, que son como súperpoderes que catalizarán nuestras habilidades  de programación en Python. Estas funciona como plugins o extensinoes para hacer nuestro código más eficiente"
   ]
  },
  {
   "cell_type": "markdown",
   "metadata": {},
   "source": [
    "[NumPy](https://numpy.org/doc/stable/user/numpy-for-matlab-users.html) (Numerical Python) es la biblioteca central para la computación científica en Python. Proporciona un objeto array multidimensional de alto rendimiento y herramientas para trabajar con estos. Si ya estás familiarizado con MATLAB, es posible que encuentres útil este tutorial para comenzar con NumPy."
   ]
  },
  {
   "cell_type": "markdown",
   "metadata": {},
   "source": [
    "<img src=\"https://s3.amazonaws.com/dq-content/289/1.2-m289.gif\" width=\"1000\">"
   ]
  },
  {
   "cell_type": "markdown",
   "metadata": {},
   "source": [
    "### Arrays (Conjuntos)\n",
    "Un array de NumPy es una cuadrícula de valores, todos del mismo tipo, y se indexa mediante tuples de enteros no negativos. El número de dimensiones es el rango del array; la forma (shape) de un array es un tuple de enteros que indica el tamaño del array a lo largo de cada dimensión."
   ]
  },
  {
   "cell_type": "markdown",
   "metadata": {},
   "source": [
    "No olviden instalar numpy: ```conda install numpy```"
   ]
  },
  {
   "cell_type": "code",
   "execution_count": 1,
   "metadata": {},
   "outputs": [],
   "source": [
    "import numpy as np"
   ]
  },
  {
   "cell_type": "code",
   "execution_count": 2,
   "metadata": {},
   "outputs": [],
   "source": [
    "a = np.array( [1, 2, 3, 4, 5] )"
   ]
  },
  {
   "cell_type": "code",
   "execution_count": 3,
   "metadata": {},
   "outputs": [
    {
     "data": {
      "text/plain": [
       "array([1, 2, 3, 4, 5])"
      ]
     },
     "execution_count": 3,
     "metadata": {},
     "output_type": "execute_result"
    }
   ],
   "source": [
    "a   "
   ]
  },
  {
   "cell_type": "code",
   "execution_count": 6,
   "metadata": {},
   "outputs": [
    {
     "data": {
      "text/plain": [
       "numpy.ndarray"
      ]
     },
     "execution_count": 6,
     "metadata": {},
     "output_type": "execute_result"
    }
   ],
   "source": [
    "type(a)"
   ]
  },
  {
   "cell_type": "code",
   "execution_count": 7,
   "metadata": {},
   "outputs": [
    {
     "name": "stdout",
     "output_type": "stream",
     "text": [
      "[1 2 3 4 5]\n"
     ]
    }
   ],
   "source": [
    "# 1D array\n",
    "a = np.array( [1, 2, 3, 4, 5] )\n",
    "print(a)"
   ]
  },
  {
   "cell_type": "code",
   "execution_count": 8,
   "metadata": {},
   "outputs": [
    {
     "name": "stdout",
     "output_type": "stream",
     "text": [
      "[[1 2 3]\n",
      " [4 5 6]]\n"
     ]
    }
   ],
   "source": [
    "# 2D array\n",
    "M = np.array( [ [1, 2, 3], [4, 5, 6] ] )\n",
    "\n",
    "print(M)"
   ]
  },
  {
   "cell_type": "code",
   "execution_count": 9,
   "metadata": {},
   "outputs": [
    {
     "data": {
      "text/plain": [
       "array([[1, 2, 3, 4],\n",
       "       [4, 5, 6, 7]])"
      ]
     },
     "execution_count": 9,
     "metadata": {},
     "output_type": "execute_result"
    }
   ],
   "source": [
    "X = np.array( [ [1, 2, 3, 4], [4, 5, 6, 7] ] )\n",
    "X"
   ]
  },
  {
   "cell_type": "markdown",
   "metadata": {},
   "source": [
    "|Function|\tDescription|\n",
    "| --- |--- |\n",
    "|np.array(a) |\tCreate -dimensional np array from sequence a|\n",
    "|np.linspace(a,b,N) |\tCreate 1D np array with N equally spaced values <br> from a to b (inclusively)|\n",
    "|np.arange(a,b,step) |\tCreate 1D np array with values from a to b (exclusively) <br> incremented by step|\n",
    "|np.zeros(N)\t| Create 1D np array of zeros of length |\n",
    "|np.zeros((n,m)) |\tCreate 2D np array of zeros with  rows and  columns|\n",
    "|np.ones(N) |\tCreate 1D np array of ones of length |\n",
    "|np.ones((n,m))|\tCreate 2D np array of ones with  rows and  columns|\n",
    "|np.eye(N)\t| Create 2D np array with  rows and  columns  <br> with ones on the diagonal  (ie. the identity matrix of size )|\n",
    "|np.concatenate( )|Join a sequence of arrays along an existing axis|\n",
    "|np.hstack( )|Stack arrays in sequence horizontally(column wise)|\n",
    "|np.vstack( )|Stack arrays in sequence vertically(row wise)|\n",
    "|np.column_stack( )|Stack 1-D arrays as columns into a 2-D array|\n",
    "|np.random.normal() | Draw random samples from a normal (Gaussian) distribution. |\n",
    "|np.linalg.inv() | Compute the (multiplicative) inverse of a matrix. |\n",
    "|np.dot() / @  | Matrix Multiplication. |"
   ]
  },
  {
   "cell_type": "code",
   "execution_count": 4,
   "metadata": {},
   "outputs": [
    {
     "name": "stdout",
     "output_type": "stream",
     "text": [
      "[0.  0.1 0.2 0.3 0.4 0.5 0.6 0.7 0.8 0.9 1. ]\n"
     ]
    }
   ],
   "source": [
    "# Create a 1D NumPy array with 11 equally spaced values from 0 to 1:\n",
    "x = np.linspace( 0, 1, 11 )\n",
    "print(x)"
   ]
  },
  {
   "cell_type": "code",
   "execution_count": 11,
   "metadata": {},
   "outputs": [
    {
     "name": "stdout",
     "output_type": "stream",
     "text": [
      "[ 0  5 10 15]\n"
     ]
    }
   ],
   "source": [
    "# Create a 1D NumPy array with values from 0 to 20 (exclusively) incremented by 5:\n",
    "y = np.arange( 0, 20, 5 )\n",
    "print(y)"
   ]
  },
  {
   "cell_type": "code",
   "execution_count": 12,
   "metadata": {},
   "outputs": [
    {
     "name": "stdout",
     "output_type": "stream",
     "text": [
      "[0. 0. 0. 0. 0. 0. 0. 0. 0. 0.]\n"
     ]
    }
   ],
   "source": [
    "# Create a 1D NumPy array of zeros of length 5:\n",
    "z = np.zeros(10)\n",
    "print(z)"
   ]
  },
  {
   "cell_type": "code",
   "execution_count": 13,
   "metadata": {},
   "outputs": [
    {
     "name": "stdout",
     "output_type": "stream",
     "text": [
      "[[0. 0. 0. 0. 0. 0. 0. 0. 0. 0.]\n",
      " [0. 0. 0. 0. 0. 0. 0. 0. 0. 0.]\n",
      " [0. 0. 0. 0. 0. 0. 0. 0. 0. 0.]\n",
      " [0. 0. 0. 0. 0. 0. 0. 0. 0. 0.]\n",
      " [0. 0. 0. 0. 0. 0. 0. 0. 0. 0.]\n",
      " [0. 0. 0. 0. 0. 0. 0. 0. 0. 0.]\n",
      " [0. 0. 0. 0. 0. 0. 0. 0. 0. 0.]\n",
      " [0. 0. 0. 0. 0. 0. 0. 0. 0. 0.]\n",
      " [0. 0. 0. 0. 0. 0. 0. 0. 0. 0.]\n",
      " [0. 0. 0. 0. 0. 0. 0. 0. 0. 0.]]\n"
     ]
    }
   ],
   "source": [
    "# Create a 2D NumPy array of zeros of shape ( 5, 10 ) :\n",
    "M = np.zeros( (10, 10) )\n",
    "print(M)"
   ]
  },
  {
   "cell_type": "code",
   "execution_count": 5,
   "metadata": {},
   "outputs": [
    {
     "name": "stdout",
     "output_type": "stream",
     "text": [
      "[1. 1. 1. 1. 1. 1. 1.]\n"
     ]
    }
   ],
   "source": [
    "# Create a 1D NumPy array of ones of length 7 (vector de unos):\n",
    "w = np.ones(7)\n",
    "print(w)"
   ]
  },
  {
   "cell_type": "code",
   "execution_count": 6,
   "metadata": {},
   "outputs": [
    {
     "name": "stdout",
     "output_type": "stream",
     "text": [
      "[[1. 1. 1. 1. 1.]\n",
      " [1. 1. 1. 1. 1.]\n",
      " [1. 1. 1. 1. 1.]\n",
      " [1. 1. 1. 1. 1.]\n",
      " [1. 1. 1. 1. 1.]]\n"
     ]
    }
   ],
   "source": [
    "# Create a 2D NumPy array of ones with 35ows and 25 columns:\n",
    "N = np.ones( (5, 5) )\n",
    "print(N)"
   ]
  },
  {
   "cell_type": "code",
   "execution_count": 16,
   "metadata": {},
   "outputs": [
    {
     "data": {
      "text/plain": [
       "array([[1., 0., 0., 0., 0.],\n",
       "       [0., 1., 0., 0., 0.],\n",
       "       [0., 0., 1., 0., 0.],\n",
       "       [0., 0., 0., 1., 0.],\n",
       "       [0., 0., 0., 0., 1.]])"
      ]
     },
     "execution_count": 16,
     "metadata": {},
     "output_type": "execute_result"
    }
   ],
   "source": [
    "np.eye(5)"
   ]
  },
  {
   "cell_type": "code",
   "execution_count": 7,
   "metadata": {},
   "outputs": [
    {
     "name": "stdout",
     "output_type": "stream",
     "text": [
      "[[1. 0. 0. 0. 0. 0. 0. 0. 0. 0.]\n",
      " [0. 1. 0. 0. 0. 0. 0. 0. 0. 0.]\n",
      " [0. 0. 1. 0. 0. 0. 0. 0. 0. 0.]\n",
      " [0. 0. 0. 1. 0. 0. 0. 0. 0. 0.]\n",
      " [0. 0. 0. 0. 1. 0. 0. 0. 0. 0.]\n",
      " [0. 0. 0. 0. 0. 1. 0. 0. 0. 0.]\n",
      " [0. 0. 0. 0. 0. 0. 1. 0. 0. 0.]\n",
      " [0. 0. 0. 0. 0. 0. 0. 1. 0. 0.]\n",
      " [0. 0. 0. 0. 0. 0. 0. 0. 1. 0.]\n",
      " [0. 0. 0. 0. 0. 0. 0. 0. 0. 1.]]\n"
     ]
    }
   ],
   "source": [
    "# Create the identity matrix of size 10:\n",
    "I = np.eye(10)\n",
    "print(I)"
   ]
  },
  {
   "cell_type": "code",
   "execution_count": 8,
   "metadata": {},
   "outputs": [
    {
     "data": {
      "text/plain": [
       "(10, 10)"
      ]
     },
     "execution_count": 8,
     "metadata": {},
     "output_type": "execute_result"
    }
   ],
   "source": [
    "# Shape (vemos la forma de la matriz I en este caso es un 10x10)\n",
    "I.shape"
   ]
  },
  {
   "cell_type": "code",
   "execution_count": 9,
   "metadata": {},
   "outputs": [
    {
     "data": {
      "text/plain": [
       "100"
      ]
     },
     "execution_count": 9,
     "metadata": {},
     "output_type": "execute_result"
    }
   ],
   "source": [
    "# Size (vemos el tamaño de la matriz I)\n",
    "I.size"
   ]
  },
  {
   "cell_type": "code",
   "execution_count": 10,
   "metadata": {},
   "outputs": [
    {
     "data": {
      "text/plain": [
       "array([[5, 6],\n",
       "       [7, 8]])"
      ]
     },
     "execution_count": 10,
     "metadata": {},
     "output_type": "execute_result"
    }
   ],
   "source": [
    "# Concateante\n",
    "g = np.array([[5,6],[7,8]])\n",
    "g"
   ]
  },
  {
   "cell_type": "code",
   "execution_count": 11,
   "metadata": {},
   "outputs": [
    {
     "data": {
      "text/plain": [
       "array([[1, 2]])"
      ]
     },
     "execution_count": 11,
     "metadata": {},
     "output_type": "execute_result"
    }
   ],
   "source": [
    "h = np.array([[1,2]])\n",
    "h"
   ]
  },
  {
   "cell_type": "code",
   "execution_count": 12,
   "metadata": {},
   "outputs": [
    {
     "data": {
      "text/plain": [
       "array([[5, 6],\n",
       "       [7, 8],\n",
       "       [1, 2]])"
      ]
     },
     "execution_count": 12,
     "metadata": {},
     "output_type": "execute_result"
    }
   ],
   "source": [
    "np.concatenate( (g, h) , axis = 0) # columnas: axis=0 agrego columna"
   ]
  },
  {
   "cell_type": "code",
   "execution_count": 13,
   "metadata": {},
   "outputs": [
    {
     "name": "stdout",
     "output_type": "stream",
     "text": [
      "(3, 2)\n",
      "\n",
      "\n",
      "[[5 6]\n",
      " [7 8]\n",
      " [1 2]]\n"
     ]
    }
   ],
   "source": [
    "test = np.concatenate( (g, h) , axis = 0) # columnas\n",
    "print(test.shape)\n",
    "print(\"\\n\") # con el / doy espacio \n",
    "print(test)"
   ]
  },
  {
   "cell_type": "code",
   "execution_count": 15,
   "metadata": {},
   "outputs": [
    {
     "data": {
      "text/plain": [
       "array([[1],\n",
       "       [2]])"
      ]
     },
     "execution_count": 15,
     "metadata": {},
     "output_type": "execute_result"
    }
   ],
   "source": [
    "h_2 = h.reshape(2, 1) #transformo el array h\n",
    "h_2"
   ]
  },
  {
   "cell_type": "code",
   "execution_count": 16,
   "metadata": {},
   "outputs": [
    {
     "data": {
      "text/plain": [
       "array([[5, 6],\n",
       "       [7, 8]])"
      ]
     },
     "execution_count": 16,
     "metadata": {},
     "output_type": "execute_result"
    }
   ],
   "source": [
    "g"
   ]
  },
  {
   "cell_type": "code",
   "execution_count": 17,
   "metadata": {},
   "outputs": [
    {
     "data": {
      "text/plain": [
       "array([[5, 6, 1],\n",
       "       [7, 8, 2]])"
      ]
     },
     "execution_count": 17,
     "metadata": {},
     "output_type": "execute_result"
    }
   ],
   "source": [
    "g_h = np.concatenate((g, h_2), axis = 1) # filas: axis=1 agrego fila\n",
    "g_h"
   ]
  },
  {
   "cell_type": "code",
   "execution_count": 28,
   "metadata": {},
   "outputs": [
    {
     "data": {
      "text/plain": [
       "array([[5, 6, 1],\n",
       "       [7, 8, 2]])"
      ]
     },
     "execution_count": 28,
     "metadata": {},
     "output_type": "execute_result"
    }
   ],
   "source": [
    "sett = np.hstack((g,h_2))\n",
    "sett"
   ]
  },
  {
   "cell_type": "code",
   "execution_count": 29,
   "metadata": {},
   "outputs": [],
   "source": [
    "# vstack \n",
    "x = np.array([1,1,1])\n",
    "y = np.array([2,2,2])\n",
    "z = np.array([3,3,3])"
   ]
  },
  {
   "cell_type": "code",
   "execution_count": 30,
   "metadata": {},
   "outputs": [
    {
     "data": {
      "text/plain": [
       "array([3, 3, 3])"
      ]
     },
     "execution_count": 30,
     "metadata": {},
     "output_type": "execute_result"
    }
   ],
   "source": [
    "z"
   ]
  },
  {
   "cell_type": "code",
   "execution_count": 31,
   "metadata": {},
   "outputs": [
    {
     "data": {
      "text/plain": [
       "array([[1, 1, 1],\n",
       "       [2, 2, 2],\n",
       "       [3, 3, 3]])"
      ]
     },
     "execution_count": 31,
     "metadata": {},
     "output_type": "execute_result"
    }
   ],
   "source": [
    "vstacked = np.vstack( (x, y, z) )\n",
    "vstacked"
   ]
  },
  {
   "cell_type": "code",
   "execution_count": 32,
   "metadata": {},
   "outputs": [
    {
     "data": {
      "text/plain": [
       "(3, 3)"
      ]
     },
     "execution_count": 32,
     "metadata": {},
     "output_type": "execute_result"
    }
   ],
   "source": [
    "vstacked.shape"
   ]
  },
  {
   "cell_type": "code",
   "execution_count": 33,
   "metadata": {},
   "outputs": [
    {
     "name": "stdout",
     "output_type": "stream",
     "text": [
      "[[1 1 1]\n",
      " [2 2 2]\n",
      " [3 3 3]]\n"
     ]
    }
   ],
   "source": [
    "vstacked = np.vstack((x,y,z))\n",
    "print(vstacked)"
   ]
  },
  {
   "cell_type": "code",
   "execution_count": 34,
   "metadata": {},
   "outputs": [
    {
     "name": "stdout",
     "output_type": "stream",
     "text": [
      "[1 1 1 2 2 2 3 3 3]\n"
     ]
    }
   ],
   "source": [
    "# hstack \n",
    "hstacked = np.hstack((x,y,z))\n",
    "print(hstacked)"
   ]
  },
  {
   "cell_type": "markdown",
   "metadata": {},
   "source": [
    "### OLS con NumPy"
   ]
  },
  {
   "cell_type": "code",
   "execution_count": 18,
   "metadata": {},
   "outputs": [
    {
     "name": "stdout",
     "output_type": "stream",
     "text": [
      "[200.         201.50753769 203.01507538 204.52261307 206.03015075\n",
      " 207.53768844 209.04522613 210.55276382 212.06030151 213.5678392\n",
      " 215.07537688 216.58291457 218.09045226 219.59798995 221.10552764\n",
      " 222.61306533 224.12060302 225.6281407  227.13567839 228.64321608\n",
      " 230.15075377 231.65829146 233.16582915 234.67336683 236.18090452\n",
      " 237.68844221 239.1959799  240.70351759 242.21105528 243.71859296\n",
      " 245.22613065 246.73366834 248.24120603 249.74874372 251.25628141\n",
      " 252.7638191  254.27135678 255.77889447 257.28643216 258.79396985\n",
      " 260.30150754 261.80904523 263.31658291 264.8241206  266.33165829\n",
      " 267.83919598 269.34673367 270.85427136 272.36180905 273.86934673\n",
      " 275.37688442 276.88442211 278.3919598  279.89949749 281.40703518\n",
      " 282.91457286 284.42211055 285.92964824 287.43718593 288.94472362\n",
      " 290.45226131 291.95979899 293.46733668 294.97487437 296.48241206\n",
      " 297.98994975 299.49748744 301.00502513 302.51256281 304.0201005\n",
      " 305.52763819 307.03517588 308.54271357 310.05025126 311.55778894\n",
      " 313.06532663 314.57286432 316.08040201 317.5879397  319.09547739\n",
      " 320.60301508 322.11055276 323.61809045 325.12562814 326.63316583\n",
      " 328.14070352 329.64824121 331.15577889 332.66331658 334.17085427\n",
      " 335.67839196 337.18592965 338.69346734 340.20100503 341.70854271\n",
      " 343.2160804  344.72361809 346.23115578 347.73869347 349.24623116\n",
      " 350.75376884 352.26130653 353.76884422 355.27638191 356.7839196\n",
      " 358.29145729 359.79899497 361.30653266 362.81407035 364.32160804\n",
      " 365.82914573 367.33668342 368.84422111 370.35175879 371.85929648\n",
      " 373.36683417 374.87437186 376.38190955 377.88944724 379.39698492\n",
      " 380.90452261 382.4120603  383.91959799 385.42713568 386.93467337\n",
      " 388.44221106 389.94974874 391.45728643 392.96482412 394.47236181\n",
      " 395.9798995  397.48743719 398.99497487 400.50251256 402.01005025\n",
      " 403.51758794 405.02512563 406.53266332 408.04020101 409.54773869\n",
      " 411.05527638 412.56281407 414.07035176 415.57788945 417.08542714\n",
      " 418.59296482 420.10050251 421.6080402  423.11557789 424.62311558\n",
      " 426.13065327 427.63819095 429.14572864 430.65326633 432.16080402\n",
      " 433.66834171 435.1758794  436.68341709 438.19095477 439.69849246\n",
      " 441.20603015 442.71356784 444.22110553 445.72864322 447.2361809\n",
      " 448.74371859 450.25125628 451.75879397 453.26633166 454.77386935\n",
      " 456.28140704 457.78894472 459.29648241 460.8040201  462.31155779\n",
      " 463.81909548 465.32663317 466.83417085 468.34170854 469.84924623\n",
      " 471.35678392 472.86432161 474.3718593  475.87939698 477.38693467\n",
      " 478.89447236 480.40201005 481.90954774 483.41708543 484.92462312\n",
      " 486.4321608  487.93969849 489.44723618 490.95477387 492.46231156\n",
      " 493.96984925 495.47738693 496.98492462 498.49246231 500.        ]\n",
      "[1. 1. 1. 1. 1. 1. 1. 1. 1. 1. 1. 1. 1. 1. 1. 1. 1. 1. 1. 1. 1. 1. 1. 1.\n",
      " 1. 1. 1. 1. 1. 1. 1. 1. 1. 1. 1. 1. 1. 1. 1. 1. 1. 1. 1. 1. 1. 1. 1. 1.\n",
      " 1. 1. 1. 1. 1. 1. 1. 1. 1. 1. 1. 1. 1. 1. 1. 1. 1. 1. 1. 1. 1. 1. 1. 1.\n",
      " 1. 1. 1. 1. 1. 1. 1. 1. 1. 1. 1. 1. 1. 1. 1. 1. 1. 1. 1. 1. 1. 1. 1. 1.\n",
      " 1. 1. 1. 1. 1. 1. 1. 1. 1. 1. 1. 1. 1. 1. 1. 1. 1. 1. 1. 1. 1. 1. 1. 1.\n",
      " 1. 1. 1. 1. 1. 1. 1. 1. 1. 1. 1. 1. 1. 1. 1. 1. 1. 1. 1. 1. 1. 1. 1. 1.\n",
      " 1. 1. 1. 1. 1. 1. 1. 1. 1. 1. 1. 1. 1. 1. 1. 1. 1. 1. 1. 1. 1. 1. 1. 1.\n",
      " 1. 1. 1. 1. 1. 1. 1. 1. 1. 1. 1. 1. 1. 1. 1. 1. 1. 1. 1. 1. 1. 1. 1. 1.\n",
      " 1. 1. 1. 1. 1. 1. 1. 1.]\n",
      "[[  1.         200.        ]\n",
      " [  1.         201.50753769]\n",
      " [  1.         203.01507538]\n",
      " [  1.         204.52261307]\n",
      " [  1.         206.03015075]\n",
      " [  1.         207.53768844]\n",
      " [  1.         209.04522613]\n",
      " [  1.         210.55276382]\n",
      " [  1.         212.06030151]\n",
      " [  1.         213.5678392 ]\n",
      " [  1.         215.07537688]\n",
      " [  1.         216.58291457]\n",
      " [  1.         218.09045226]\n",
      " [  1.         219.59798995]\n",
      " [  1.         221.10552764]\n",
      " [  1.         222.61306533]\n",
      " [  1.         224.12060302]\n",
      " [  1.         225.6281407 ]\n",
      " [  1.         227.13567839]\n",
      " [  1.         228.64321608]\n",
      " [  1.         230.15075377]\n",
      " [  1.         231.65829146]\n",
      " [  1.         233.16582915]\n",
      " [  1.         234.67336683]\n",
      " [  1.         236.18090452]\n",
      " [  1.         237.68844221]\n",
      " [  1.         239.1959799 ]\n",
      " [  1.         240.70351759]\n",
      " [  1.         242.21105528]\n",
      " [  1.         243.71859296]\n",
      " [  1.         245.22613065]\n",
      " [  1.         246.73366834]\n",
      " [  1.         248.24120603]\n",
      " [  1.         249.74874372]\n",
      " [  1.         251.25628141]\n",
      " [  1.         252.7638191 ]\n",
      " [  1.         254.27135678]\n",
      " [  1.         255.77889447]\n",
      " [  1.         257.28643216]\n",
      " [  1.         258.79396985]\n",
      " [  1.         260.30150754]\n",
      " [  1.         261.80904523]\n",
      " [  1.         263.31658291]\n",
      " [  1.         264.8241206 ]\n",
      " [  1.         266.33165829]\n",
      " [  1.         267.83919598]\n",
      " [  1.         269.34673367]\n",
      " [  1.         270.85427136]\n",
      " [  1.         272.36180905]\n",
      " [  1.         273.86934673]\n",
      " [  1.         275.37688442]\n",
      " [  1.         276.88442211]\n",
      " [  1.         278.3919598 ]\n",
      " [  1.         279.89949749]\n",
      " [  1.         281.40703518]\n",
      " [  1.         282.91457286]\n",
      " [  1.         284.42211055]\n",
      " [  1.         285.92964824]\n",
      " [  1.         287.43718593]\n",
      " [  1.         288.94472362]\n",
      " [  1.         290.45226131]\n",
      " [  1.         291.95979899]\n",
      " [  1.         293.46733668]\n",
      " [  1.         294.97487437]\n",
      " [  1.         296.48241206]\n",
      " [  1.         297.98994975]\n",
      " [  1.         299.49748744]\n",
      " [  1.         301.00502513]\n",
      " [  1.         302.51256281]\n",
      " [  1.         304.0201005 ]\n",
      " [  1.         305.52763819]\n",
      " [  1.         307.03517588]\n",
      " [  1.         308.54271357]\n",
      " [  1.         310.05025126]\n",
      " [  1.         311.55778894]\n",
      " [  1.         313.06532663]\n",
      " [  1.         314.57286432]\n",
      " [  1.         316.08040201]\n",
      " [  1.         317.5879397 ]\n",
      " [  1.         319.09547739]\n",
      " [  1.         320.60301508]\n",
      " [  1.         322.11055276]\n",
      " [  1.         323.61809045]\n",
      " [  1.         325.12562814]\n",
      " [  1.         326.63316583]\n",
      " [  1.         328.14070352]\n",
      " [  1.         329.64824121]\n",
      " [  1.         331.15577889]\n",
      " [  1.         332.66331658]\n",
      " [  1.         334.17085427]\n",
      " [  1.         335.67839196]\n",
      " [  1.         337.18592965]\n",
      " [  1.         338.69346734]\n",
      " [  1.         340.20100503]\n",
      " [  1.         341.70854271]\n",
      " [  1.         343.2160804 ]\n",
      " [  1.         344.72361809]\n",
      " [  1.         346.23115578]\n",
      " [  1.         347.73869347]\n",
      " [  1.         349.24623116]\n",
      " [  1.         350.75376884]\n",
      " [  1.         352.26130653]\n",
      " [  1.         353.76884422]\n",
      " [  1.         355.27638191]\n",
      " [  1.         356.7839196 ]\n",
      " [  1.         358.29145729]\n",
      " [  1.         359.79899497]\n",
      " [  1.         361.30653266]\n",
      " [  1.         362.81407035]\n",
      " [  1.         364.32160804]\n",
      " [  1.         365.82914573]\n",
      " [  1.         367.33668342]\n",
      " [  1.         368.84422111]\n",
      " [  1.         370.35175879]\n",
      " [  1.         371.85929648]\n",
      " [  1.         373.36683417]\n",
      " [  1.         374.87437186]\n",
      " [  1.         376.38190955]\n",
      " [  1.         377.88944724]\n",
      " [  1.         379.39698492]\n",
      " [  1.         380.90452261]\n",
      " [  1.         382.4120603 ]\n",
      " [  1.         383.91959799]\n",
      " [  1.         385.42713568]\n",
      " [  1.         386.93467337]\n",
      " [  1.         388.44221106]\n",
      " [  1.         389.94974874]\n",
      " [  1.         391.45728643]\n",
      " [  1.         392.96482412]\n",
      " [  1.         394.47236181]\n",
      " [  1.         395.9798995 ]\n",
      " [  1.         397.48743719]\n",
      " [  1.         398.99497487]\n",
      " [  1.         400.50251256]\n",
      " [  1.         402.01005025]\n",
      " [  1.         403.51758794]\n",
      " [  1.         405.02512563]\n",
      " [  1.         406.53266332]\n",
      " [  1.         408.04020101]\n",
      " [  1.         409.54773869]\n",
      " [  1.         411.05527638]\n",
      " [  1.         412.56281407]\n",
      " [  1.         414.07035176]\n",
      " [  1.         415.57788945]\n",
      " [  1.         417.08542714]\n",
      " [  1.         418.59296482]\n",
      " [  1.         420.10050251]\n",
      " [  1.         421.6080402 ]\n",
      " [  1.         423.11557789]\n",
      " [  1.         424.62311558]\n",
      " [  1.         426.13065327]\n",
      " [  1.         427.63819095]\n",
      " [  1.         429.14572864]\n",
      " [  1.         430.65326633]\n",
      " [  1.         432.16080402]\n",
      " [  1.         433.66834171]\n",
      " [  1.         435.1758794 ]\n",
      " [  1.         436.68341709]\n",
      " [  1.         438.19095477]\n",
      " [  1.         439.69849246]\n",
      " [  1.         441.20603015]\n",
      " [  1.         442.71356784]\n",
      " [  1.         444.22110553]\n",
      " [  1.         445.72864322]\n",
      " [  1.         447.2361809 ]\n",
      " [  1.         448.74371859]\n",
      " [  1.         450.25125628]\n",
      " [  1.         451.75879397]\n",
      " [  1.         453.26633166]\n",
      " [  1.         454.77386935]\n",
      " [  1.         456.28140704]\n",
      " [  1.         457.78894472]\n",
      " [  1.         459.29648241]\n",
      " [  1.         460.8040201 ]\n",
      " [  1.         462.31155779]\n",
      " [  1.         463.81909548]\n",
      " [  1.         465.32663317]\n",
      " [  1.         466.83417085]\n",
      " [  1.         468.34170854]\n",
      " [  1.         469.84924623]\n",
      " [  1.         471.35678392]\n",
      " [  1.         472.86432161]\n",
      " [  1.         474.3718593 ]\n",
      " [  1.         475.87939698]\n",
      " [  1.         477.38693467]\n",
      " [  1.         478.89447236]\n",
      " [  1.         480.40201005]\n",
      " [  1.         481.90954774]\n",
      " [  1.         483.41708543]\n",
      " [  1.         484.92462312]\n",
      " [  1.         486.4321608 ]\n",
      " [  1.         487.93969849]\n",
      " [  1.         489.44723618]\n",
      " [  1.         490.95477387]\n",
      " [  1.         492.46231156]\n",
      " [  1.         493.96984925]\n",
      " [  1.         495.47738693]\n",
      " [  1.         496.98492462]\n",
      " [  1.         498.49246231]\n",
      " [  1.         500.        ]]\n"
     ]
    }
   ],
   "source": [
    "# X data generation\n",
    "n_data = 200 #tamaño de la base de datos\n",
    "x1 = np.linspace(200, 500, n_data) #el vector x1 va de 200 a 500 desplazaod en n_data\n",
    "x0 = np.ones(n_data) #vector de 1 \n",
    "X = np.hstack(( x0.reshape(-1, 1 ) , x1.reshape(-1, 1 ) )) #juntamos las matrices x0 con x1 , reshape (-1,1) sirve para transformar la matriz abajito hay un link para ver mas especifico que hace este reshape\n",
    "\n",
    "print(x1)\n",
    "print(x0)\n",
    "print(X)"
   ]
  },
  {
   "cell_type": "code",
   "execution_count": 19,
   "metadata": {},
   "outputs": [
    {
     "data": {
      "text/plain": [
       "(200, 2)"
      ]
     },
     "execution_count": 19,
     "metadata": {},
     "output_type": "execute_result"
    }
   ],
   "source": [
    "X.shape"
   ]
  },
  {
   "cell_type": "code",
   "execution_count": 20,
   "metadata": {},
   "outputs": [
    {
     "data": {
      "text/plain": [
       "array([[  1.        , 200.        ],\n",
       "       [  1.        , 201.50753769],\n",
       "       [  1.        , 203.01507538],\n",
       "       [  1.        , 204.52261307],\n",
       "       [  1.        , 206.03015075],\n",
       "       [  1.        , 207.53768844],\n",
       "       [  1.        , 209.04522613],\n",
       "       [  1.        , 210.55276382],\n",
       "       [  1.        , 212.06030151],\n",
       "       [  1.        , 213.5678392 ],\n",
       "       [  1.        , 215.07537688],\n",
       "       [  1.        , 216.58291457],\n",
       "       [  1.        , 218.09045226],\n",
       "       [  1.        , 219.59798995],\n",
       "       [  1.        , 221.10552764],\n",
       "       [  1.        , 222.61306533],\n",
       "       [  1.        , 224.12060302],\n",
       "       [  1.        , 225.6281407 ],\n",
       "       [  1.        , 227.13567839],\n",
       "       [  1.        , 228.64321608],\n",
       "       [  1.        , 230.15075377],\n",
       "       [  1.        , 231.65829146],\n",
       "       [  1.        , 233.16582915],\n",
       "       [  1.        , 234.67336683],\n",
       "       [  1.        , 236.18090452],\n",
       "       [  1.        , 237.68844221],\n",
       "       [  1.        , 239.1959799 ],\n",
       "       [  1.        , 240.70351759],\n",
       "       [  1.        , 242.21105528],\n",
       "       [  1.        , 243.71859296],\n",
       "       [  1.        , 245.22613065],\n",
       "       [  1.        , 246.73366834],\n",
       "       [  1.        , 248.24120603],\n",
       "       [  1.        , 249.74874372],\n",
       "       [  1.        , 251.25628141],\n",
       "       [  1.        , 252.7638191 ],\n",
       "       [  1.        , 254.27135678],\n",
       "       [  1.        , 255.77889447],\n",
       "       [  1.        , 257.28643216],\n",
       "       [  1.        , 258.79396985],\n",
       "       [  1.        , 260.30150754],\n",
       "       [  1.        , 261.80904523],\n",
       "       [  1.        , 263.31658291],\n",
       "       [  1.        , 264.8241206 ],\n",
       "       [  1.        , 266.33165829],\n",
       "       [  1.        , 267.83919598],\n",
       "       [  1.        , 269.34673367],\n",
       "       [  1.        , 270.85427136],\n",
       "       [  1.        , 272.36180905],\n",
       "       [  1.        , 273.86934673],\n",
       "       [  1.        , 275.37688442],\n",
       "       [  1.        , 276.88442211],\n",
       "       [  1.        , 278.3919598 ],\n",
       "       [  1.        , 279.89949749],\n",
       "       [  1.        , 281.40703518],\n",
       "       [  1.        , 282.91457286],\n",
       "       [  1.        , 284.42211055],\n",
       "       [  1.        , 285.92964824],\n",
       "       [  1.        , 287.43718593],\n",
       "       [  1.        , 288.94472362],\n",
       "       [  1.        , 290.45226131],\n",
       "       [  1.        , 291.95979899],\n",
       "       [  1.        , 293.46733668],\n",
       "       [  1.        , 294.97487437],\n",
       "       [  1.        , 296.48241206],\n",
       "       [  1.        , 297.98994975],\n",
       "       [  1.        , 299.49748744],\n",
       "       [  1.        , 301.00502513],\n",
       "       [  1.        , 302.51256281],\n",
       "       [  1.        , 304.0201005 ],\n",
       "       [  1.        , 305.52763819],\n",
       "       [  1.        , 307.03517588],\n",
       "       [  1.        , 308.54271357],\n",
       "       [  1.        , 310.05025126],\n",
       "       [  1.        , 311.55778894],\n",
       "       [  1.        , 313.06532663],\n",
       "       [  1.        , 314.57286432],\n",
       "       [  1.        , 316.08040201],\n",
       "       [  1.        , 317.5879397 ],\n",
       "       [  1.        , 319.09547739],\n",
       "       [  1.        , 320.60301508],\n",
       "       [  1.        , 322.11055276],\n",
       "       [  1.        , 323.61809045],\n",
       "       [  1.        , 325.12562814],\n",
       "       [  1.        , 326.63316583],\n",
       "       [  1.        , 328.14070352],\n",
       "       [  1.        , 329.64824121],\n",
       "       [  1.        , 331.15577889],\n",
       "       [  1.        , 332.66331658],\n",
       "       [  1.        , 334.17085427],\n",
       "       [  1.        , 335.67839196],\n",
       "       [  1.        , 337.18592965],\n",
       "       [  1.        , 338.69346734],\n",
       "       [  1.        , 340.20100503],\n",
       "       [  1.        , 341.70854271],\n",
       "       [  1.        , 343.2160804 ],\n",
       "       [  1.        , 344.72361809],\n",
       "       [  1.        , 346.23115578],\n",
       "       [  1.        , 347.73869347],\n",
       "       [  1.        , 349.24623116],\n",
       "       [  1.        , 350.75376884],\n",
       "       [  1.        , 352.26130653],\n",
       "       [  1.        , 353.76884422],\n",
       "       [  1.        , 355.27638191],\n",
       "       [  1.        , 356.7839196 ],\n",
       "       [  1.        , 358.29145729],\n",
       "       [  1.        , 359.79899497],\n",
       "       [  1.        , 361.30653266],\n",
       "       [  1.        , 362.81407035],\n",
       "       [  1.        , 364.32160804],\n",
       "       [  1.        , 365.82914573],\n",
       "       [  1.        , 367.33668342],\n",
       "       [  1.        , 368.84422111],\n",
       "       [  1.        , 370.35175879],\n",
       "       [  1.        , 371.85929648],\n",
       "       [  1.        , 373.36683417],\n",
       "       [  1.        , 374.87437186],\n",
       "       [  1.        , 376.38190955],\n",
       "       [  1.        , 377.88944724],\n",
       "       [  1.        , 379.39698492],\n",
       "       [  1.        , 380.90452261],\n",
       "       [  1.        , 382.4120603 ],\n",
       "       [  1.        , 383.91959799],\n",
       "       [  1.        , 385.42713568],\n",
       "       [  1.        , 386.93467337],\n",
       "       [  1.        , 388.44221106],\n",
       "       [  1.        , 389.94974874],\n",
       "       [  1.        , 391.45728643],\n",
       "       [  1.        , 392.96482412],\n",
       "       [  1.        , 394.47236181],\n",
       "       [  1.        , 395.9798995 ],\n",
       "       [  1.        , 397.48743719],\n",
       "       [  1.        , 398.99497487],\n",
       "       [  1.        , 400.50251256],\n",
       "       [  1.        , 402.01005025],\n",
       "       [  1.        , 403.51758794],\n",
       "       [  1.        , 405.02512563],\n",
       "       [  1.        , 406.53266332],\n",
       "       [  1.        , 408.04020101],\n",
       "       [  1.        , 409.54773869],\n",
       "       [  1.        , 411.05527638],\n",
       "       [  1.        , 412.56281407],\n",
       "       [  1.        , 414.07035176],\n",
       "       [  1.        , 415.57788945],\n",
       "       [  1.        , 417.08542714],\n",
       "       [  1.        , 418.59296482],\n",
       "       [  1.        , 420.10050251],\n",
       "       [  1.        , 421.6080402 ],\n",
       "       [  1.        , 423.11557789],\n",
       "       [  1.        , 424.62311558],\n",
       "       [  1.        , 426.13065327],\n",
       "       [  1.        , 427.63819095],\n",
       "       [  1.        , 429.14572864],\n",
       "       [  1.        , 430.65326633],\n",
       "       [  1.        , 432.16080402],\n",
       "       [  1.        , 433.66834171],\n",
       "       [  1.        , 435.1758794 ],\n",
       "       [  1.        , 436.68341709],\n",
       "       [  1.        , 438.19095477],\n",
       "       [  1.        , 439.69849246],\n",
       "       [  1.        , 441.20603015],\n",
       "       [  1.        , 442.71356784],\n",
       "       [  1.        , 444.22110553],\n",
       "       [  1.        , 445.72864322],\n",
       "       [  1.        , 447.2361809 ],\n",
       "       [  1.        , 448.74371859],\n",
       "       [  1.        , 450.25125628],\n",
       "       [  1.        , 451.75879397],\n",
       "       [  1.        , 453.26633166],\n",
       "       [  1.        , 454.77386935],\n",
       "       [  1.        , 456.28140704],\n",
       "       [  1.        , 457.78894472],\n",
       "       [  1.        , 459.29648241],\n",
       "       [  1.        , 460.8040201 ],\n",
       "       [  1.        , 462.31155779],\n",
       "       [  1.        , 463.81909548],\n",
       "       [  1.        , 465.32663317],\n",
       "       [  1.        , 466.83417085],\n",
       "       [  1.        , 468.34170854],\n",
       "       [  1.        , 469.84924623],\n",
       "       [  1.        , 471.35678392],\n",
       "       [  1.        , 472.86432161],\n",
       "       [  1.        , 474.3718593 ],\n",
       "       [  1.        , 475.87939698],\n",
       "       [  1.        , 477.38693467],\n",
       "       [  1.        , 478.89447236],\n",
       "       [  1.        , 480.40201005],\n",
       "       [  1.        , 481.90954774],\n",
       "       [  1.        , 483.41708543],\n",
       "       [  1.        , 484.92462312],\n",
       "       [  1.        , 486.4321608 ],\n",
       "       [  1.        , 487.93969849],\n",
       "       [  1.        , 489.44723618],\n",
       "       [  1.        , 490.95477387],\n",
       "       [  1.        , 492.46231156],\n",
       "       [  1.        , 493.96984925],\n",
       "       [  1.        , 495.47738693],\n",
       "       [  1.        , 496.98492462],\n",
       "       [  1.        , 498.49246231],\n",
       "       [  1.        , 500.        ]])"
      ]
     },
     "execution_count": 20,
     "metadata": {},
     "output_type": "execute_result"
    }
   ],
   "source": [
    "X"
   ]
  },
  {
   "cell_type": "code",
   "execution_count": null,
   "metadata": {},
   "outputs": [],
   "source": [
    "# Para mayor explicación sobre el reshape(-1,1):\n",
    "# https://stackoverflow.com/questions/18691084/what-does-1-mean-in-numpy-reshape"
   ]
  },
  {
   "cell_type": "code",
   "execution_count": 21,
   "metadata": {},
   "outputs": [
    {
     "name": "stdout",
     "output_type": "stream",
     "text": [
      "[[ 5]\n",
      " [-2]]\n",
      "(2, 1)\n"
     ]
    }
   ],
   "source": [
    "# select parameters\n",
    "beta = np.array([5, -2]).reshape(-1, 1 )\n",
    "print(beta)\n",
    "print(beta.shape)"
   ]
  },
  {
   "cell_type": "code",
   "execution_count": 22,
   "metadata": {},
   "outputs": [
    {
     "data": {
      "text/plain": [
       "(200, 1)"
      ]
     },
     "execution_count": 22,
     "metadata": {},
     "output_type": "execute_result"
    }
   ],
   "source": [
    "# y true\n",
    "y_true = X @ beta #el @ multiplica matrices\n",
    "y_true.shape"
   ]
  },
  {
   "cell_type": "code",
   "execution_count": null,
   "metadata": {},
   "outputs": [],
   "source": [
    "y_true"
   ]
  },
  {
   "cell_type": "code",
   "execution_count": 23,
   "metadata": {},
   "outputs": [
    {
     "data": {
      "text/plain": [
       "array([[-420.42463577],\n",
       "       [-403.87248541],\n",
       "       [-401.21523393],\n",
       "       [-400.9827682 ],\n",
       "       [-398.55446274],\n",
       "       [-426.6118324 ],\n",
       "       [-387.69712572],\n",
       "       [-388.28279916],\n",
       "       [-430.76049212],\n",
       "       [-411.57644025],\n",
       "       [-434.09172792],\n",
       "       [-424.78266349],\n",
       "       [-434.07164946],\n",
       "       [-449.60534555],\n",
       "       [-434.83581888],\n",
       "       [-432.32506834],\n",
       "       [-410.05734561],\n",
       "       [-461.76371189],\n",
       "       [-484.04890052],\n",
       "       [-438.74811233],\n",
       "       [-460.29457308],\n",
       "       [-461.53119409],\n",
       "       [-462.89848525],\n",
       "       [-481.69517704],\n",
       "       [-470.38399816],\n",
       "       [-441.0792265 ],\n",
       "       [-491.18173936],\n",
       "       [-479.27229034],\n",
       "       [-469.64408001],\n",
       "       [-480.14445606],\n",
       "       [-443.76550882],\n",
       "       [-482.51148594],\n",
       "       [-508.8330078 ],\n",
       "       [-467.02094049],\n",
       "       [-498.15238766],\n",
       "       [-477.72337476],\n",
       "       [-553.52190896],\n",
       "       [-501.63134386],\n",
       "       [-538.86248027],\n",
       "       [-519.13620106],\n",
       "       [-556.45544438],\n",
       "       [-524.28191423],\n",
       "       [-517.69960997],\n",
       "       [-481.81918606],\n",
       "       [-521.2972321 ],\n",
       "       [-552.27321824],\n",
       "       [-503.56832916],\n",
       "       [-569.07044343],\n",
       "       [-523.44757338],\n",
       "       [-560.59939295],\n",
       "       [-554.60710607],\n",
       "       [-530.44685997],\n",
       "       [-568.71782647],\n",
       "       [-549.95330065],\n",
       "       [-555.55167332],\n",
       "       [-577.64667174],\n",
       "       [-556.08777478],\n",
       "       [-568.25593983],\n",
       "       [-552.36758883],\n",
       "       [-550.45314137],\n",
       "       [-635.03817404],\n",
       "       [-575.88104698],\n",
       "       [-609.35319753],\n",
       "       [-552.21129317],\n",
       "       [-613.27456551],\n",
       "       [-608.17910662],\n",
       "       [-603.25489716],\n",
       "       [-618.88183949],\n",
       "       [-602.53975242],\n",
       "       [-607.64726797],\n",
       "       [-627.93022151],\n",
       "       [-598.3906895 ],\n",
       "       [-649.08336785],\n",
       "       [-616.92895815],\n",
       "       [-655.73412315],\n",
       "       [-609.33492135],\n",
       "       [-650.33642662],\n",
       "       [-655.39929831],\n",
       "       [-627.05756874],\n",
       "       [-633.7451857 ],\n",
       "       [-651.23114474],\n",
       "       [-621.56420465],\n",
       "       [-656.46024484],\n",
       "       [-664.35936403],\n",
       "       [-648.40950498],\n",
       "       [-666.89360323],\n",
       "       [-680.47736472],\n",
       "       [-643.76235494],\n",
       "       [-683.14579265],\n",
       "       [-658.81162861],\n",
       "       [-689.99139283],\n",
       "       [-653.84698147],\n",
       "       [-686.16560877],\n",
       "       [-709.8375445 ],\n",
       "       [-704.588209  ],\n",
       "       [-695.0115702 ],\n",
       "       [-696.19628037],\n",
       "       [-673.56048704],\n",
       "       [-705.39789858],\n",
       "       [-688.35897754],\n",
       "       [-679.99322005],\n",
       "       [-705.42890493],\n",
       "       [-691.40395468],\n",
       "       [-701.42771127],\n",
       "       [-719.40757487],\n",
       "       [-731.79504574],\n",
       "       [-718.34498954],\n",
       "       [-699.68130337],\n",
       "       [-723.21011312],\n",
       "       [-721.60236786],\n",
       "       [-731.42169589],\n",
       "       [-741.23405122],\n",
       "       [-742.07787113],\n",
       "       [-738.74422471],\n",
       "       [-740.49849393],\n",
       "       [-688.36208726],\n",
       "       [-778.62625981],\n",
       "       [-765.92756547],\n",
       "       [-750.07650943],\n",
       "       [-762.00018678],\n",
       "       [-743.77501743],\n",
       "       [-749.49118518],\n",
       "       [-771.19463251],\n",
       "       [-733.69058104],\n",
       "       [-754.56815657],\n",
       "       [-739.06842328],\n",
       "       [-750.89753413],\n",
       "       [-771.94128026],\n",
       "       [-749.69107461],\n",
       "       [-802.89960298],\n",
       "       [-773.48465936],\n",
       "       [-769.36971202],\n",
       "       [-788.74756605],\n",
       "       [-780.26922919],\n",
       "       [-819.58344911],\n",
       "       [-813.86916691],\n",
       "       [-803.10982622],\n",
       "       [-792.55564373],\n",
       "       [-839.60125794],\n",
       "       [-803.15286756],\n",
       "       [-828.82965361],\n",
       "       [-814.36752749],\n",
       "       [-809.1219466 ],\n",
       "       [-818.98224502],\n",
       "       [-848.87444369],\n",
       "       [-853.53538072],\n",
       "       [-831.81167879],\n",
       "       [-827.89733879],\n",
       "       [-822.21548453],\n",
       "       [-847.54119954],\n",
       "       [-867.54661172],\n",
       "       [-850.99024148],\n",
       "       [-880.1940079 ],\n",
       "       [-843.88693619],\n",
       "       [-898.13445737],\n",
       "       [-823.67335614],\n",
       "       [-884.94465693],\n",
       "       [-865.85194039],\n",
       "       [-876.40152813],\n",
       "       [-860.64985869],\n",
       "       [-894.32027638],\n",
       "       [-865.01180745],\n",
       "       [-907.02139296],\n",
       "       [-885.34199118],\n",
       "       [-877.0149205 ],\n",
       "       [-880.61448982],\n",
       "       [-854.19865691],\n",
       "       [-897.02478984],\n",
       "       [-879.84811291],\n",
       "       [-895.71027022],\n",
       "       [-903.87026751],\n",
       "       [-904.74168055],\n",
       "       [-925.35673104],\n",
       "       [-929.37272212],\n",
       "       [-904.55390417],\n",
       "       [-932.34394784],\n",
       "       [-922.53569071],\n",
       "       [-936.59965725],\n",
       "       [-920.15343869],\n",
       "       [-923.30677709],\n",
       "       [-909.94149606],\n",
       "       [-976.83862937],\n",
       "       [-967.92363652],\n",
       "       [-902.80556968],\n",
       "       [-931.3886497 ],\n",
       "       [-929.6464181 ],\n",
       "       [-960.1740252 ],\n",
       "       [-921.40497134],\n",
       "       [-993.00052614],\n",
       "       [-968.0567364 ],\n",
       "       [-978.92893427],\n",
       "       [-947.46428832],\n",
       "       [-956.65036826],\n",
       "       [-974.12403611],\n",
       "       [-969.52322166],\n",
       "       [-964.06818801],\n",
       "       [-989.56231736],\n",
       "       [-997.36938945],\n",
       "       [-978.83537127],\n",
       "       [-994.81273873]])"
      ]
     },
     "execution_count": 23,
     "metadata": {},
     "output_type": "execute_result"
    }
   ],
   "source": [
    "y_true + (np.random.normal(0, 1, n_data) * 20).reshape(-1, 1) #al valor y_true le sumo el erro"
   ]
  },
  {
   "cell_type": "code",
   "execution_count": 24,
   "metadata": {},
   "outputs": [
    {
     "name": "stdout",
     "output_type": "stream",
     "text": [
      "[[-384.1807694 ]\n",
      " [-398.39129747]\n",
      " [-421.2166403 ]\n",
      " [-418.83464892]]\n"
     ]
    }
   ],
   "source": [
    "#   add random normal noise\n",
    "sigma = 20\n",
    "y_actual = y_true + (np.random.normal(0, 1, n_data) * sigma).reshape(-1, 1)\n",
    "print(y_actual[0:4, :])"
   ]
  },
  {
   "cell_type": "markdown",
   "metadata": {},
   "source": [
    "The matrix equation for the estimated linear parameters is as below:\n",
    "$${\\hat {\\beta }}=(X^{T}X)^{-1}X^{T}y.$$"
   ]
  },
  {
   "cell_type": "code",
   "execution_count": 25,
   "metadata": {},
   "outputs": [
    {
     "data": {
      "text/plain": [
       "array([[ 8.40263399],\n",
       "       [-2.01039877]])"
      ]
     },
     "execution_count": 25,
     "metadata": {},
     "output_type": "execute_result"
    }
   ],
   "source": [
    "# estimations\n",
    "beta_estimated = np.linalg.inv(X.T @ X) @ X.T @ y_actual #X.T es X transpuesta\n",
    "beta_estimated"
   ]
  },
  {
   "cell_type": "code",
   "execution_count": 26,
   "metadata": {},
   "outputs": [
    {
     "name": "stderr",
     "output_type": "stream",
     "text": [
      "C:\\Users\\User\\AppData\\Local\\Temp\\ipykernel_4572\\3055057328.py:4: UserWarning: color is redundantly defined by the 'color' keyword argument and the fmt string \"g-\" (-> color='g'). The keyword argument will take precedence.\n",
      "  plt.plot(x1, y_true, 'g-', c = 'black')\n"
     ]
    },
    {
     "data": {
      "text/plain": [
       "[<matplotlib.lines.Line2D at 0x24ef0dca5f0>]"
      ]
     },
     "execution_count": 26,
     "metadata": {},
     "output_type": "execute_result"
    },
    {
     "data": {
      "image/png": "[encoded data removed]",
      "text/plain": [
       "<Figure size 640x480 with 1 Axes>"
      ]
     },
     "metadata": {},
     "output_type": "display_data"
    }
   ],
   "source": [
    "import matplotlib.pyplot as plt\n",
    "\n",
    "plt.plot(x1, y_actual, 'o')\n",
    "plt.plot(x1, y_true, 'g-', c = 'black')"
   ]
  },
  {
   "cell_type": "markdown",
   "metadata": {},
   "source": [
    "Calculate the sum of squared residual errors\n",
    "$$\n",
    "RSS=y^{T}y-y^{T}X(X^{T}X)^{{-1}}X^{T}y\n",
    "$$"
   ]
  },
  {
   "cell_type": "code",
   "execution_count": 68,
   "metadata": {},
   "outputs": [
    {
     "data": {
      "text/plain": [
       "array([[ -424.07632452],\n",
       "       [ -392.18385441],\n",
       "       [ -419.59926173],\n",
       "       [ -416.72550243],\n",
       "       [ -414.80678065],\n",
       "       [ -416.31108725],\n",
       "       [ -427.84521569],\n",
       "       [ -453.83122961],\n",
       "       [ -445.1681567 ],\n",
       "       [ -388.69601717],\n",
       "       [ -452.36881543],\n",
       "       [ -437.0277357 ],\n",
       "       [ -431.13009242],\n",
       "       [ -393.90550754],\n",
       "       [ -405.10893675],\n",
       "       [ -479.046804  ],\n",
       "       [ -433.32628028],\n",
       "       [ -455.32393584],\n",
       "       [ -432.44506871],\n",
       "       [ -464.77972147],\n",
       "       [ -445.01198414],\n",
       "       [ -444.71087818],\n",
       "       [ -470.15503325],\n",
       "       [ -421.10467713],\n",
       "       [ -428.73889757],\n",
       "       [ -497.54404048],\n",
       "       [ -499.3742732 ],\n",
       "       [ -491.37586591],\n",
       "       [ -494.0536974 ],\n",
       "       [ -532.73157113],\n",
       "       [ -509.78932545],\n",
       "       [ -522.27069204],\n",
       "       [ -484.10760561],\n",
       "       [ -527.12928073],\n",
       "       [ -512.65656991],\n",
       "       [ -486.56986407],\n",
       "       [ -505.71852071],\n",
       "       [ -518.68978794],\n",
       "       [ -542.73919013],\n",
       "       [ -534.13815543],\n",
       "       [ -510.72900081],\n",
       "       [ -506.55208315],\n",
       "       [ -557.40964259],\n",
       "       [ -492.60766349],\n",
       "       [ -525.37213205],\n",
       "       [ -524.97133238],\n",
       "       [ -529.69623097],\n",
       "       [ -545.13903374],\n",
       "       [ -519.5159129 ],\n",
       "       [ -529.51636194],\n",
       "       [ -489.55094187],\n",
       "       [ -567.13852695],\n",
       "       [ -560.97990615],\n",
       "       [ -588.30449089],\n",
       "       [ -574.01831718],\n",
       "       [ -544.1731729 ],\n",
       "       [ -560.95674558],\n",
       "       [ -581.31201857],\n",
       "       [ -557.47323841],\n",
       "       [ -566.18440628],\n",
       "       [ -592.62225355],\n",
       "       [ -609.35339805],\n",
       "       [ -620.118762  ],\n",
       "       [ -592.81175845],\n",
       "       [ -619.10167638],\n",
       "       [ -606.01996761],\n",
       "       [ -552.47906517],\n",
       "       [ -621.15512574],\n",
       "       [ -632.81447117],\n",
       "       [ -590.72037111],\n",
       "       [ -613.81270378],\n",
       "       [ -578.84152789],\n",
       "       [ -608.20153152],\n",
       "       [ -631.74807718],\n",
       "       [ -620.01404278],\n",
       "       [ -657.79807746],\n",
       "       [ -616.60675939],\n",
       "       [ -608.31799863],\n",
       "       [ -609.61747507],\n",
       "       [ -598.91037458],\n",
       "       [ -625.8949096 ],\n",
       "       [ -597.52931031],\n",
       "       [ -639.99118933],\n",
       "       [ -639.25191236],\n",
       "       [ -639.96084152],\n",
       "       [ -646.42900801],\n",
       "       [ -628.53663713],\n",
       "       [ -678.06303606],\n",
       "       [ -664.35952301],\n",
       "       [ -636.50134364],\n",
       "       [ -681.82489175],\n",
       "       [ -667.70251787],\n",
       "       [ -709.15569959],\n",
       "       [ -676.04621577],\n",
       "       [ -670.56837177],\n",
       "       [ -696.02165311],\n",
       "       [ -703.82998743],\n",
       "       [ -675.05305119],\n",
       "       [ -698.19064538],\n",
       "       [ -708.23315448],\n",
       "       [ -673.14999557],\n",
       "       [ -732.41568188],\n",
       "       [ -723.75102675],\n",
       "       [ -715.58078442],\n",
       "       [ -771.38591321],\n",
       "       [ -713.35944213],\n",
       "       [ -713.02153252],\n",
       "       [ -696.6787236 ],\n",
       "       [ -690.25070761],\n",
       "       [ -726.14485193],\n",
       "       [ -716.0622536 ],\n",
       "       [ -764.64805041],\n",
       "       [ -735.4642343 ],\n",
       "       [ -740.62493792],\n",
       "       [ -717.47216659],\n",
       "       [ -715.39093946],\n",
       "       [ -717.50028724],\n",
       "       [ -730.15157026],\n",
       "       [ -744.31857465],\n",
       "       [ -747.18616588],\n",
       "       [ -794.83658783],\n",
       "       [ -780.52776722],\n",
       "       [ -739.56370823],\n",
       "       [ -766.41690354],\n",
       "       [ -801.59216613],\n",
       "       [ -756.37172574],\n",
       "       [ -789.29128545],\n",
       "       [ -782.74184798],\n",
       "       [ -784.56336988],\n",
       "       [ -769.31172642],\n",
       "       [ -764.33005392],\n",
       "       [ -759.97677601],\n",
       "       [ -781.91303304],\n",
       "       [ -783.54445109],\n",
       "       [ -822.44607443],\n",
       "       [ -812.96928653],\n",
       "       [ -824.96880211],\n",
       "       [ -804.30462878],\n",
       "       [ -825.22962598],\n",
       "       [ -817.45489642],\n",
       "       [ -804.49333684],\n",
       "       [ -802.48289379],\n",
       "       [ -823.38267989],\n",
       "       [ -832.79075543],\n",
       "       [ -809.14455935],\n",
       "       [ -855.28571809],\n",
       "       [ -829.69748915],\n",
       "       [ -829.34100574],\n",
       "       [ -882.67934492],\n",
       "       [ -836.10017614],\n",
       "       [ -839.72191681],\n",
       "       [ -874.39734841],\n",
       "       [ -869.28585943],\n",
       "       [ -873.47898419],\n",
       "       [ -870.85917631],\n",
       "       [ -863.96140637],\n",
       "       [ -889.99504784],\n",
       "       [ -870.05286998],\n",
       "       [ -880.7581663 ],\n",
       "       [ -882.58129344],\n",
       "       [ -861.77392517],\n",
       "       [ -872.51098963],\n",
       "       [ -888.95098738],\n",
       "       [ -866.00027053],\n",
       "       [ -876.84248813],\n",
       "       [ -874.88545334],\n",
       "       [ -904.06262328],\n",
       "       [ -888.8158403 ],\n",
       "       [ -909.47455616],\n",
       "       [ -935.27259905],\n",
       "       [ -924.96918836],\n",
       "       [ -886.98069825],\n",
       "       [ -905.40778851],\n",
       "       [ -934.61910848],\n",
       "       [ -952.40039468],\n",
       "       [ -938.92639249],\n",
       "       [ -933.83853824],\n",
       "       [ -917.0904762 ],\n",
       "       [ -928.32379741],\n",
       "       [ -902.00937585],\n",
       "       [ -919.94548737],\n",
       "       [ -930.57708294],\n",
       "       [ -938.76002129],\n",
       "       [ -965.28111834],\n",
       "       [ -960.90727511],\n",
       "       [ -973.50815512],\n",
       "       [ -925.61552124],\n",
       "       [ -965.48220751],\n",
       "       [ -989.74898384],\n",
       "       [ -962.48521149],\n",
       "       [ -965.25653912],\n",
       "       [ -970.4794381 ],\n",
       "       [ -958.26393486],\n",
       "       [ -989.3581101 ],\n",
       "       [ -986.22001578],\n",
       "       [ -969.38516345],\n",
       "       [ -976.44095894],\n",
       "       [-1027.93343695],\n",
       "       [ -982.4988674 ],\n",
       "       [ -985.50296825]])"
      ]
     },
     "execution_count": 68,
     "metadata": {},
     "output_type": "execute_result"
    }
   ],
   "source": [
    "y_actual"
   ]
  },
  {
   "cell_type": "code",
   "execution_count": 70,
   "metadata": {},
   "outputs": [
    {
     "data": {
      "text/plain": [
       "array([[85080.35807836]])"
      ]
     },
     "execution_count": 70,
     "metadata": {},
     "output_type": "execute_result"
    }
   ],
   "source": [
    "RSS = ( y_actual.T @ y_actual - y_actual.T @ X @ np.linalg.inv(X.T @ X) @ X.T @ y_actual )\n",
    "RSS"
   ]
  },
  {
   "cell_type": "markdown",
   "metadata": {},
   "source": [
    "Calculated the Total Sum of Squares of the spread of the actual (noisy) values around their mean\n",
    "$$\n",
    "TSS=(y-{\\bar  y})^{T}(y-{\\bar  y})=y^{T}y-2y^{T}{\\bar  y}+{\\bar  y}^{T}{\\bar  y}\n",
    "$$"
   ]
  },
  {
   "cell_type": "code",
   "execution_count": 71,
   "metadata": {},
   "outputs": [
    {
     "data": {
      "text/plain": [
       "array([[6046996.59314532]])"
      ]
     },
     "execution_count": 71,
     "metadata": {},
     "output_type": "execute_result"
    }
   ],
   "source": [
    "y_mean = ( np.ones(n_data) * np.mean(y_actual) ).reshape( -1 , 1 )\n",
    "TSS = (y_actual - y_mean).T @ (y_actual - y_mean)\n",
    "TSS"
   ]
  },
  {
   "cell_type": "code",
   "execution_count": 72,
   "metadata": {},
   "outputs": [],
   "source": [
    "# get predictions\n",
    "y_pred = X @ beta_estimated"
   ]
  },
  {
   "cell_type": "markdown",
   "metadata": {},
   "source": [
    "Calculate the Sum of Squares of the spread of the predictions around their mean.\n",
    "$$\n",
    "ESS=({\\hat  y}-{\\bar  y})^{T}({\\hat  y}-{\\bar  y})={\\hat  y}^{T}{\\hat  y}-2{\\hat  y}^{T}{\\bar  y}+{\\bar  y}^{T}{\\bar  y}\n",
    "$$"
   ]
  },
  {
   "cell_type": "code",
   "execution_count": 73,
   "metadata": {},
   "outputs": [
    {
     "data": {
      "text/plain": [
       "array([[5961916.23506711]])"
      ]
     },
     "execution_count": 73,
     "metadata": {},
     "output_type": "execute_result"
    }
   ],
   "source": [
    "ESS = (y_pred - y_mean).T @ (y_pred - y_mean)\n",
    "ESS"
   ]
  },
  {
   "cell_type": "code",
   "execution_count": 74,
   "metadata": {},
   "outputs": [
    {
     "data": {
      "text/plain": [
       "(array([[6046996.59314532]]), array([[6046996.59314547]]))"
      ]
     },
     "execution_count": 74,
     "metadata": {},
     "output_type": "execute_result"
    }
   ],
   "source": [
    "TSS, ESS + RSS"
   ]
  },
  {
   "cell_type": "markdown",
   "metadata": {},
   "source": [
    "Get $R^2$\n",
    "$$\n",
    "1 - RSS / TSS\n",
    "$$"
   ]
  },
  {
   "cell_type": "code",
   "execution_count": 75,
   "metadata": {},
   "outputs": [
    {
     "data": {
      "text/plain": [
       "array([[0.98593015]])"
      ]
     },
     "execution_count": 75,
     "metadata": {},
     "output_type": "execute_result"
    }
   ],
   "source": [
    "1 - RSS / TSS"
   ]
  },
  {
   "cell_type": "markdown",
   "metadata": {},
   "source": [
    "###  SE\n",
    "Calculate the standard error of the regression. We divide by `(n-2)`, because the Expectation of the sum of squares is `(n-2)*sigma^2`."
   ]
  },
  {
   "cell_type": "code",
   "execution_count": 76,
   "metadata": {},
   "outputs": [
    {
     "data": {
      "text/plain": [
       "array([[20.72917698]])"
      ]
     },
     "execution_count": 76,
     "metadata": {},
     "output_type": "execute_result"
    }
   ],
   "source": [
    "sr2 = ( (1 / (n_data - 2)) * (y_pred - y_actual).T  @ (y_pred - y_actual))\n",
    "sr = np.sqrt(sr2)\n",
    "sr"
   ]
  },
  {
   "cell_type": "markdown",
   "metadata": {},
   "source": [
    "### Var-Cov\n",
    "In order to get the standard errors for our linear parameters, we use the matrix formula below:\n",
    "$$\n",
    "Var(β^ )=σ^2(X′X)^{-1}\n",
    "$$"
   ]
  },
  {
   "cell_type": "code",
   "execution_count": 77,
   "metadata": {},
   "outputs": [
    {
     "data": {
      "text/plain": [
       "array([[ 3.68913860e+01, -9.92654060e-02],\n",
       "       [-9.92654060e-02,  2.83615446e-04]])"
      ]
     },
     "execution_count": 77,
     "metadata": {},
     "output_type": "execute_result"
    }
   ],
   "source": [
    "var_beta = sr2 * np.linalg.inv(X.T @ X)\n",
    "var_beta"
   ]
  },
  {
   "cell_type": "code",
   "execution_count": 78,
   "metadata": {},
   "outputs": [
    {
     "name": "stdout",
     "output_type": "stream",
     "text": [
      "Std Error for b0 6.073827951146486, \n",
      "Std Error for b1 0.016840886129495636\n"
     ]
    }
   ],
   "source": [
    "print(\n",
    "    f'Std Error for b0 {np.sqrt(var_beta[0, 0])}, \\nStd Error for b1 {np.sqrt(var_beta[1, 1])}'\n",
    ")"
   ]
  },
  {
   "cell_type": "markdown",
   "metadata": {},
   "source": [
    "## Exercise"
   ]
  },
  {
   "cell_type": "markdown",
   "metadata": {},
   "source": [
    "*Example extracted from Dataquest course \"Data Analyst in Python\"*"
   ]
  },
  {
   "cell_type": "markdown",
   "metadata": {},
   "source": [
    "Let's work with a subset of the New York City taxi trip data released by the city. We'll focus on about 90,000 yellow taxi trips to and from various NYC airports between January and June 2016. Here are some selected columns from the dataset:\n",
    "\n",
    "- `pickup_month`: the month of the trip (January is 1, December is 12)\n",
    "- `pickup_day`: the day of the month of the trip\n",
    "- `pickup_location_code`: the airport or borough where the trip started\n",
    "- `dropoff_location_code`: the airport or borough where the trip ended\n",
    "- `trip_distance`: the distance of the trip in miles\n",
    "- `trip_length`: the length of the trip in seconds\n",
    "- `fare_amount`: the base fare of the trip, in dollars\n",
    "- `total_amount`: the total amount charged to the passenger, including all fees, tolls, and tips\n",
    "\n",
    "\n",
    "Review the dictionary data [here](https://s3.amazonaws.com/dq-content/289/nyc_taxi_data_dictionary.md).\n",
    "\n",
    "Our data is stored in a CSV file called `nyc_taxis.csv`\n"
   ]
  },
  {
   "cell_type": "code",
   "execution_count": 27,
   "metadata": {},
   "outputs": [
    {
     "data": {
      "text/plain": [
       "'c:\\\\GitHub\\\\verano-2024-macro-finance\\\\2. Basic objects & Numpy'"
      ]
     },
     "execution_count": 27,
     "metadata": {},
     "output_type": "execute_result"
    }
   ],
   "source": [
    "pwd"
   ]
  },
  {
   "cell_type": "code",
   "execution_count": 28,
   "metadata": {},
   "outputs": [],
   "source": [
    "import csv\n",
    "# import nyc_taxi.csv as a list of lists : el código importa el módulo CSV, abre el archivo CSV, lee los datos CSV en una lista de listas, elimina la fila de encabezado y convierte todos los valores de datos a números de punto flotante.\n",
    "f = open(\"data/nyc_taxis.csv\", \"r\") #con el / indico que esta dentro de una subcarpeta, Esta línea abre el archivo CSV llamado \"nyc_taxis.csv\" ubicado en la subcarpeta \"data\". El modo \"r\" indica que el archivo se está abriendo para leer. \n",
    "taxi_list = list(csv.reader(f)) #Esta línea lee el contenido del archivo CSV usando la función csv.reader. Crea una lista de listas, donde cada lista interna representa una fila en el archivo CSV.\n",
    "\n",
    "# remove the header row\n",
    "taxi_list = taxi_list[1:] #Esta línea elimina la primera fila de la taxi_list, que se supone que contiene la información del encabezado (nombres de las columnas).\n",
    "\n",
    "# convert all values to floats: El siguiente bloque de código itera a través de cada fila en la taxi_list y convierte todos los elementos a números de punto flotante:\n",
    "converted_taxi_list = [] #Crea una lista vacía que se utilizará para almacenar los datos convertidos.\n",
    "for row in taxi_list: #Itera a través de cada fila en la taxi_list.\n",
    "    converted_row = [] #Crea una lista vacía que se utilizará para almacenar los elementos convertidos de la fila actual.\n",
    "    for element in row: #Itera a través de cada elemento en la fila actual.\n",
    "        converted_row.append(float(element)) #Convierte el elemento actual a un número de punto flotante y lo agrega a la converted_row.\n",
    "    converted_taxi_list.append(converted_row) #Agrega la converted_row a la converted_taxi_list."
   ]
  },
  {
   "cell_type": "markdown",
   "metadata": {},
   "source": [
    "Add a single line of code using the `numpy.array()` constructor to convert the `converted_taxi_list` variable to a NumPy ndarray, and assign the result to the variable name `taxi`"
   ]
  },
  {
   "cell_type": "code",
   "execution_count": 84,
   "metadata": {},
   "outputs": [],
   "source": [
    "# Solution\n",
    "taxi = np.array(converted_taxi_list)"
   ]
  },
  {
   "cell_type": "markdown",
   "metadata": {},
   "source": [
    "Let´s explore our dataset"
   ]
  },
  {
   "cell_type": "code",
   "execution_count": 85,
   "metadata": {},
   "outputs": [
    {
     "data": {
      "text/plain": [
       "array([[2.016e+03, 1.000e+00, 1.000e+00, ..., 1.165e+01, 6.999e+01,\n",
       "        1.000e+00],\n",
       "       [2.016e+03, 1.000e+00, 1.000e+00, ..., 8.000e+00, 5.430e+01,\n",
       "        1.000e+00],\n",
       "       [2.016e+03, 1.000e+00, 1.000e+00, ..., 0.000e+00, 3.780e+01,\n",
       "        2.000e+00],\n",
       "       ...,\n",
       "       [2.016e+03, 6.000e+00, 3.000e+01, ..., 5.000e+00, 6.334e+01,\n",
       "        1.000e+00],\n",
       "       [2.016e+03, 6.000e+00, 3.000e+01, ..., 8.950e+00, 4.475e+01,\n",
       "        1.000e+00],\n",
       "       [2.016e+03, 6.000e+00, 3.000e+01, ..., 0.000e+00, 5.484e+01,\n",
       "        2.000e+00]])"
      ]
     },
     "execution_count": 85,
     "metadata": {},
     "output_type": "execute_result"
    }
   ],
   "source": [
    "taxi"
   ]
  },
  {
   "cell_type": "markdown",
   "metadata": {},
   "source": [
    "How many columns and rows?"
   ]
  },
  {
   "cell_type": "code",
   "execution_count": 86,
   "metadata": {},
   "outputs": [
    {
     "data": {
      "text/plain": [
       "(2013, 15)"
      ]
     },
     "execution_count": 86,
     "metadata": {},
     "output_type": "execute_result"
    }
   ],
   "source": [
    "# Solution\n",
    "taxi.shape"
   ]
  },
  {
   "cell_type": "markdown",
   "metadata": {},
   "source": [
    "Select the rows at indices 100 to 200 inclusive for the columns at indices 9 to 13 inclusive (fare amount, fees amount, tolls amount, tip amount, total amount). Assign the result to `rows_100_to_200_column_9_to_13`"
   ]
  },
  {
   "cell_type": "code",
   "execution_count": 90,
   "metadata": {},
   "outputs": [
    {
     "data": {
      "text/plain": [
       "(101, 5)"
      ]
     },
     "execution_count": 90,
     "metadata": {},
     "output_type": "execute_result"
    }
   ],
   "source": [
    "# Solution\n",
    "rows_100_to_200_column_9_to_13 = taxi[100:201, 9:14]\n",
    "rows_100_to_200_column_9_to_13.shape"
   ]
  },
  {
   "cell_type": "markdown",
   "metadata": {},
   "source": [
    "Considering the following variables, calculate a new variables `trip_mph`"
   ]
  },
  {
   "cell_type": "code",
   "execution_count": 91,
   "metadata": {},
   "outputs": [],
   "source": [
    "trip_distance_miles = taxi[:, 7]\n",
    "trip_length_seconds = taxi[:, 8]\n",
    "trip_length_hours = trip_length_seconds / 3600 # there are 3600 seconds in one hour"
   ]
  },
  {
   "cell_type": "code",
   "execution_count": 93,
   "metadata": {},
   "outputs": [
    {
     "data": {
      "text/plain": [
       "array([37.11340206, 38.58157895, 31.27222982, ..., 22.29907867,\n",
       "       42.41551247, 36.90473407])"
      ]
     },
     "execution_count": 93,
     "metadata": {},
     "output_type": "execute_result"
    }
   ],
   "source": [
    "# Solution\n",
    "trip_mph = trip_distance_miles / trip_length_hours\n",
    "trip_mph"
   ]
  },
  {
   "cell_type": "markdown",
   "metadata": {},
   "source": [
    "Calculate the average speed of `trip_mph`"
   ]
  },
  {
   "cell_type": "code",
   "execution_count": 97,
   "metadata": {},
   "outputs": [
    {
     "data": {
      "text/plain": [
       "169.98315083655157"
      ]
     },
     "execution_count": 97,
     "metadata": {},
     "output_type": "execute_result"
    }
   ],
   "source": [
    "# Solution\n",
    "trip_mph.mean()"
   ]
  },
  {
   "cell_type": "markdown",
   "metadata": {},
   "source": [
    "Calculate the sum of each row in `fare_components`"
   ]
  },
  {
   "cell_type": "code",
   "execution_count": 102,
   "metadata": {},
   "outputs": [
    {
     "data": {
      "text/plain": [
       "array([[52.  ,  0.8 ,  5.54, 11.65],\n",
       "       [45.  ,  1.3 ,  0.  ,  8.  ],\n",
       "       [36.5 ,  1.3 ,  0.  ,  0.  ],\n",
       "       [26.  ,  1.3 ,  0.  ,  5.46],\n",
       "       [17.5 ,  1.3 ,  0.  ,  0.  ]])"
      ]
     },
     "execution_count": 102,
     "metadata": {},
     "output_type": "execute_result"
    }
   ],
   "source": [
    "# extract the first 5 rows only\n",
    "taxi_first_five = taxi[:5]\n",
    "# # select columns: fare_amount, fees_amount, tolls_amount, and tip_amount\n",
    "fare_components = taxi_first_five[:, 9:13]\n",
    "fare_components"
   ]
  },
  {
   "cell_type": "code",
   "execution_count": 105,
   "metadata": {},
   "outputs": [
    {
     "data": {
      "text/plain": [
       "array([69.99, 54.3 , 37.8 , 32.76, 18.8 ])"
      ]
     },
     "execution_count": 105,
     "metadata": {},
     "output_type": "execute_result"
    }
   ],
   "source": [
    "# Solution\n",
    "fare_total=fare_components.sum(axis=1)  # para cada fila\n",
    "fare_total"
   ]
  },
  {
   "cell_type": "code",
   "execution_count": 107,
   "metadata": {},
   "outputs": [
    {
     "data": {
      "text/plain": [
       "array([[52.  ,  0.8 ,  5.54, 11.65, 69.99],\n",
       "       [45.  ,  1.3 ,  0.  ,  8.  , 54.3 ],\n",
       "       [36.5 ,  1.3 ,  0.  ,  0.  , 37.8 ],\n",
       "       [26.  ,  1.3 ,  0.  ,  5.46, 32.76],\n",
       "       [17.5 ,  1.3 ,  0.  ,  0.  , 18.8 ]])"
      ]
     },
     "execution_count": 107,
     "metadata": {},
     "output_type": "execute_result"
    }
   ],
   "source": [
    "fare_components2 = taxi_first_five[:, 9:14]\n",
    "fare_components2"
   ]
  },
  {
   "cell_type": "markdown",
   "metadata": {},
   "source": []
  }
 ],
 "metadata": {
  "hide_input": false,
  "kernelspec": {
   "display_name": "Python 3 (ipykernel)",
   "language": "python",
   "name": "python3"
  },
  "language_info": {
   "codemirror_mode": {
    "name": "ipython",
    "version": 3
   },
   "file_extension": ".py",
   "mimetype": "text/x-python",
   "name": "python",
   "nbconvert_exporter": "python",
   "pygments_lexer": "ipython3",
   "version": "3.10.9"
  },
  "vscode": {
   "interpreter": {
    "hash": "b247a10ecbbbecc6838db24cf0cac95fbd318f0e8104436862772c94dc5e78c9"
   }
  }
 },
 "nbformat": 4,
 "nbformat_minor": 4
}
