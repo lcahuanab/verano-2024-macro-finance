{
 "cells": [
  {
   "cell_type": "markdown",
   "metadata": {},
   "source": [
    "# NumPy\n",
    "\n",
    "*   Instructor: Victor Fuentes Campos\n",
    "*   Curso: Fundamentos de Programación en Python para Macroeconomía y Finanzas\n",
    "*   Adapatado de las clases de [Carla Solís](https://github.com/ccsuehara/python_para_las_ccss/blob/main/Clase%202/tipos_operadores.ipynb) y [Alexander Quispe](https://github.com/alexanderquispe/QLAB_Summer_Python/blob/main/Lecture_2/Lecture_2.ipynb)\n",
    "\n",
    "\n",
    "Empecemos con un [video sencillo](https://www.youtube.com/watch?v=Tkv45wgxlEU)"
   ]
  },
  {
   "cell_type": "markdown",
   "metadata": {},
   "source": [
    "> En adelante, empezamos a usar librarías de Python, que son como súperpoderes que catalizarán nuestras habilidades  de programación en Python. Estas funciona como plugins o extensinoes para hacer nuestro código más eficiente"
   ]
  },
  {
   "cell_type": "markdown",
   "metadata": {},
   "source": [
    "[NumPy](https://numpy.org/doc/stable/user/numpy-for-matlab-users.html) (Numerical Python) es la biblioteca central para la computación científica en Python. Proporciona un objeto array multidimensional de alto rendimiento y herramientas para trabajar con estos. Si ya estás familiarizado con MATLAB, es posible que encuentres útil este tutorial para comenzar con NumPy."
   ]
  },
  {
   "cell_type": "markdown",
   "metadata": {},
   "source": [
    "<img src=\"https://s3.amazonaws.com/dq-content/289/1.2-m289.gif\" width=\"1000\">"
   ]
  },
  {
   "cell_type": "markdown",
   "metadata": {},
   "source": [
    "### Arrays\n",
    "Un array de NumPy es una cuadrícula de valores, todos del mismo tipo, y se indexa mediante tuples de enteros no negativos. El número de dimensiones es el rango del array; la forma (shape) de un array es un tuple de enteros que indica el tamaño del array a lo largo de cada dimensión."
   ]
  },
  {
   "cell_type": "markdown",
   "metadata": {},
   "source": [
    "No olviden instalar numpy: ```conda install numpy```"
   ]
  },
  {
   "cell_type": "code",
   "execution_count": 3,
   "metadata": {},
   "outputs": [],
   "source": [
    "import numpy as np"
   ]
  },
  {
   "cell_type": "code",
   "execution_count": 4,
   "metadata": {},
   "outputs": [],
   "source": [
    "a = np.array( [1, 2, 3, 4, 5] )"
   ]
  },
  {
   "cell_type": "code",
   "execution_count": 5,
   "metadata": {},
   "outputs": [
    {
     "data": {
      "text/plain": [
       "array([1, 2, 3, 4, 5])"
      ]
     },
     "execution_count": 5,
     "metadata": {},
     "output_type": "execute_result"
    }
   ],
   "source": [
    "a   "
   ]
  },
  {
   "cell_type": "code",
   "execution_count": 6,
   "metadata": {},
   "outputs": [
    {
     "data": {
      "text/plain": [
       "numpy.ndarray"
      ]
     },
     "execution_count": 6,
     "metadata": {},
     "output_type": "execute_result"
    }
   ],
   "source": [
    "type(a)"
   ]
  },
  {
   "cell_type": "code",
   "execution_count": 7,
   "metadata": {},
   "outputs": [
    {
     "name": "stdout",
     "output_type": "stream",
     "text": [
      "[1 2 3 4 5]\n"
     ]
    }
   ],
   "source": [
    "# 1D array\n",
    "a = np.array( [1, 2, 3, 4, 5] )\n",
    "print(a)"
   ]
  },
  {
   "cell_type": "code",
   "execution_count": 8,
   "metadata": {},
   "outputs": [
    {
     "name": "stdout",
     "output_type": "stream",
     "text": [
      "[[1 2 3]\n",
      " [4 5 6]]\n"
     ]
    }
   ],
   "source": [
    "# 2D array\n",
    "M = np.array( [ [1, 2, 3], [4, 5, 6] ] )\n",
    "\n",
    "print(M)"
   ]
  },
  {
   "cell_type": "code",
   "execution_count": 9,
   "metadata": {},
   "outputs": [
    {
     "data": {
      "text/plain": [
       "array([[1, 2, 3, 4],\n",
       "       [4, 5, 6, 7]])"
      ]
     },
     "execution_count": 9,
     "metadata": {},
     "output_type": "execute_result"
    }
   ],
   "source": [
    "X = np.array( [ [1, 2, 3, 4], [4, 5, 6, 7] ] )\n",
    "X"
   ]
  },
  {
   "cell_type": "markdown",
   "metadata": {},
   "source": [
    "|Function|\tDescription|\n",
    "| --- |--- |\n",
    "|np.array(a) |\tCreate -dimensional np array from sequence a|\n",
    "|np.linspace(a,b,N) |\tCreate 1D np array with N equally spaced values <br> from a to b (inclusively)|\n",
    "|np.arange(a,b,step) |\tCreate 1D np array with values from a to b (exclusively) <br> incremented by step|\n",
    "|np.zeros(N)\t| Create 1D np array of zeros of length |\n",
    "|np.zeros((n,m)) |\tCreate 2D np array of zeros with  rows and  columns|\n",
    "|np.ones(N) |\tCreate 1D np array of ones of length |\n",
    "|np.ones((n,m))|\tCreate 2D np array of ones with  rows and  columns|\n",
    "|np.eye(N)\t| Create 2D np array with  rows and  columns  <br> with ones on the diagonal  (ie. the identity matrix of size )|\n",
    "|np.concatenate( )|Join a sequence of arrays along an existing axis|\n",
    "|np.hstack( )|Stack arrays in sequence horizontally(column wise)|\n",
    "|np.vstack( )|Stack arrays in sequence vertically(row wise)|\n",
    "|np.column_stack( )|Stack 1-D arrays as columns into a 2-D array|\n",
    "|np.random.normal() | Draw random samples from a normal (Gaussian) distribution. |\n",
    "|np.linalg.inv() | Compute the (multiplicative) inverse of a matrix. |\n",
    "|np.dot() / @  | Matrix Multiplication. |"
   ]
  },
  {
   "cell_type": "code",
   "execution_count": 10,
   "metadata": {},
   "outputs": [
    {
     "name": "stdout",
     "output_type": "stream",
     "text": [
      "[0.  0.1 0.2 0.3 0.4 0.5 0.6 0.7 0.8 0.9 1. ]\n"
     ]
    }
   ],
   "source": [
    "# Create a 1D NumPy array with 11 equally spaced values from 0 to 1:\n",
    "x = np.linspace( 0, 1, 11 )\n",
    "print(x)"
   ]
  },
  {
   "cell_type": "code",
   "execution_count": 11,
   "metadata": {},
   "outputs": [
    {
     "name": "stdout",
     "output_type": "stream",
     "text": [
      "[ 0  5 10 15]\n"
     ]
    }
   ],
   "source": [
    "# Create a 1D NumPy array with values from 0 to 20 (exclusively) incremented by 5:\n",
    "y = np.arange( 0, 20, 5 )\n",
    "print(y)"
   ]
  },
  {
   "cell_type": "code",
   "execution_count": 12,
   "metadata": {},
   "outputs": [
    {
     "name": "stdout",
     "output_type": "stream",
     "text": [
      "[0. 0. 0. 0. 0. 0. 0. 0. 0. 0.]\n"
     ]
    }
   ],
   "source": [
    "# Create a 1D NumPy array of zeros of length 5:\n",
    "z = np.zeros(10)\n",
    "print(z)"
   ]
  },
  {
   "cell_type": "code",
   "execution_count": 13,
   "metadata": {},
   "outputs": [
    {
     "name": "stdout",
     "output_type": "stream",
     "text": [
      "[[0. 0. 0. 0. 0. 0. 0. 0. 0. 0.]\n",
      " [0. 0. 0. 0. 0. 0. 0. 0. 0. 0.]\n",
      " [0. 0. 0. 0. 0. 0. 0. 0. 0. 0.]\n",
      " [0. 0. 0. 0. 0. 0. 0. 0. 0. 0.]\n",
      " [0. 0. 0. 0. 0. 0. 0. 0. 0. 0.]\n",
      " [0. 0. 0. 0. 0. 0. 0. 0. 0. 0.]\n",
      " [0. 0. 0. 0. 0. 0. 0. 0. 0. 0.]\n",
      " [0. 0. 0. 0. 0. 0. 0. 0. 0. 0.]\n",
      " [0. 0. 0. 0. 0. 0. 0. 0. 0. 0.]\n",
      " [0. 0. 0. 0. 0. 0. 0. 0. 0. 0.]]\n"
     ]
    }
   ],
   "source": [
    "# Create a 2D NumPy array of zeros of shape ( 5, 10 ) :\n",
    "M = np.zeros( (10, 10) )\n",
    "print(M)"
   ]
  },
  {
   "cell_type": "code",
   "execution_count": 14,
   "metadata": {},
   "outputs": [
    {
     "name": "stdout",
     "output_type": "stream",
     "text": [
      "[1. 1. 1. 1. 1. 1. 1.]\n"
     ]
    }
   ],
   "source": [
    "# Create a 1D NumPy array of ones of length 7:\n",
    "w = np.ones(7)\n",
    "print(w)"
   ]
  },
  {
   "cell_type": "code",
   "execution_count": 15,
   "metadata": {},
   "outputs": [
    {
     "name": "stdout",
     "output_type": "stream",
     "text": [
      "[[1. 1. 1. 1. 1.]\n",
      " [1. 1. 1. 1. 1.]\n",
      " [1. 1. 1. 1. 1.]\n",
      " [1. 1. 1. 1. 1.]\n",
      " [1. 1. 1. 1. 1.]]\n"
     ]
    }
   ],
   "source": [
    "# Create a 2D NumPy array of ones with 35ows and 25 columns:\n",
    "N = np.ones( (5, 5) )\n",
    "print(N)"
   ]
  },
  {
   "cell_type": "code",
   "execution_count": 16,
   "metadata": {},
   "outputs": [
    {
     "data": {
      "text/plain": [
       "array([[1., 0., 0., 0., 0.],\n",
       "       [0., 1., 0., 0., 0.],\n",
       "       [0., 0., 1., 0., 0.],\n",
       "       [0., 0., 0., 1., 0.],\n",
       "       [0., 0., 0., 0., 1.]])"
      ]
     },
     "execution_count": 16,
     "metadata": {},
     "output_type": "execute_result"
    }
   ],
   "source": [
    "np.eye(5)"
   ]
  },
  {
   "cell_type": "code",
   "execution_count": 17,
   "metadata": {},
   "outputs": [
    {
     "name": "stdout",
     "output_type": "stream",
     "text": [
      "[[1. 0. 0. 0. 0. 0. 0. 0. 0. 0.]\n",
      " [0. 1. 0. 0. 0. 0. 0. 0. 0. 0.]\n",
      " [0. 0. 1. 0. 0. 0. 0. 0. 0. 0.]\n",
      " [0. 0. 0. 1. 0. 0. 0. 0. 0. 0.]\n",
      " [0. 0. 0. 0. 1. 0. 0. 0. 0. 0.]\n",
      " [0. 0. 0. 0. 0. 1. 0. 0. 0. 0.]\n",
      " [0. 0. 0. 0. 0. 0. 1. 0. 0. 0.]\n",
      " [0. 0. 0. 0. 0. 0. 0. 1. 0. 0.]\n",
      " [0. 0. 0. 0. 0. 0. 0. 0. 1. 0.]\n",
      " [0. 0. 0. 0. 0. 0. 0. 0. 0. 1.]]\n"
     ]
    }
   ],
   "source": [
    "# Create the identity matrix of size 10:\n",
    "I = np.eye(10)\n",
    "print(I)"
   ]
  },
  {
   "cell_type": "code",
   "execution_count": 18,
   "metadata": {},
   "outputs": [
    {
     "data": {
      "text/plain": [
       "(10, 10)"
      ]
     },
     "execution_count": 18,
     "metadata": {},
     "output_type": "execute_result"
    }
   ],
   "source": [
    "# Shape\n",
    "I.shape"
   ]
  },
  {
   "cell_type": "code",
   "execution_count": 19,
   "metadata": {},
   "outputs": [
    {
     "data": {
      "text/plain": [
       "100"
      ]
     },
     "execution_count": 19,
     "metadata": {},
     "output_type": "execute_result"
    }
   ],
   "source": [
    "# Size\n",
    "I.size"
   ]
  },
  {
   "cell_type": "code",
   "execution_count": 20,
   "metadata": {},
   "outputs": [
    {
     "data": {
      "text/plain": [
       "array([[5, 6],\n",
       "       [7, 8]])"
      ]
     },
     "execution_count": 20,
     "metadata": {},
     "output_type": "execute_result"
    }
   ],
   "source": [
    "# Concateante\n",
    "g = np.array([[5,6],[7,8]])\n",
    "g"
   ]
  },
  {
   "cell_type": "code",
   "execution_count": 21,
   "metadata": {},
   "outputs": [
    {
     "data": {
      "text/plain": [
       "array([[1, 2]])"
      ]
     },
     "execution_count": 21,
     "metadata": {},
     "output_type": "execute_result"
    }
   ],
   "source": [
    "h = np.array([[1,2]])\n",
    "h"
   ]
  },
  {
   "cell_type": "code",
   "execution_count": 27,
   "metadata": {},
   "outputs": [
    {
     "data": {
      "text/plain": [
       "array([[5, 6],\n",
       "       [7, 8],\n",
       "       [1, 2]])"
      ]
     },
     "execution_count": 27,
     "metadata": {},
     "output_type": "execute_result"
    }
   ],
   "source": [
    "np.concatenate( (g, h) , axis = 0) # columnas"
   ]
  },
  {
   "cell_type": "code",
   "execution_count": 36,
   "metadata": {},
   "outputs": [
    {
     "name": "stdout",
     "output_type": "stream",
     "text": [
      "(3, 2)\n",
      "\n",
      "\n",
      "[[5 6]\n",
      " [7 8]\n",
      " [1 2]]\n"
     ]
    }
   ],
   "source": [
    "test = np.concatenate( (g, h) , axis = 0) # columnas\n",
    "print(test.shape)\n",
    "print(\"\\n\")\n",
    "print(test)"
   ]
  },
  {
   "cell_type": "code",
   "execution_count": 23,
   "metadata": {},
   "outputs": [
    {
     "data": {
      "text/plain": [
       "array([[1],\n",
       "       [2]])"
      ]
     },
     "execution_count": 23,
     "metadata": {},
     "output_type": "execute_result"
    }
   ],
   "source": [
    "h_2 = h.reshape(2, 1)\n",
    "h_2"
   ]
  },
  {
   "cell_type": "code",
   "execution_count": 24,
   "metadata": {},
   "outputs": [
    {
     "data": {
      "text/plain": [
       "array([[5, 6],\n",
       "       [7, 8]])"
      ]
     },
     "execution_count": 24,
     "metadata": {},
     "output_type": "execute_result"
    }
   ],
   "source": [
    "g"
   ]
  },
  {
   "cell_type": "code",
   "execution_count": 26,
   "metadata": {},
   "outputs": [
    {
     "data": {
      "text/plain": [
       "array([[5, 6, 1],\n",
       "       [7, 8, 2]])"
      ]
     },
     "execution_count": 26,
     "metadata": {},
     "output_type": "execute_result"
    }
   ],
   "source": [
    "g_h = np.concatenate((g, h_2), axis = 1) # filas\n",
    "g_h"
   ]
  },
  {
   "cell_type": "code",
   "execution_count": 28,
   "metadata": {},
   "outputs": [
    {
     "data": {
      "text/plain": [
       "array([[5, 6, 1],\n",
       "       [7, 8, 2]])"
      ]
     },
     "execution_count": 28,
     "metadata": {},
     "output_type": "execute_result"
    }
   ],
   "source": [
    "sett = np.hstack((g,h_2))\n",
    "sett"
   ]
  },
  {
   "cell_type": "code",
   "execution_count": 29,
   "metadata": {},
   "outputs": [],
   "source": [
    "# vstack \n",
    "x = np.array([1,1,1])\n",
    "y = np.array([2,2,2])\n",
    "z = np.array([3,3,3])"
   ]
  },
  {
   "cell_type": "code",
   "execution_count": 30,
   "metadata": {},
   "outputs": [
    {
     "data": {
      "text/plain": [
       "array([3, 3, 3])"
      ]
     },
     "execution_count": 30,
     "metadata": {},
     "output_type": "execute_result"
    }
   ],
   "source": [
    "z"
   ]
  },
  {
   "cell_type": "code",
   "execution_count": 31,
   "metadata": {},
   "outputs": [
    {
     "data": {
      "text/plain": [
       "array([[1, 1, 1],\n",
       "       [2, 2, 2],\n",
       "       [3, 3, 3]])"
      ]
     },
     "execution_count": 31,
     "metadata": {},
     "output_type": "execute_result"
    }
   ],
   "source": [
    "vstacked = np.vstack( (x, y, z) )\n",
    "vstacked"
   ]
  },
  {
   "cell_type": "code",
   "execution_count": 32,
   "metadata": {},
   "outputs": [
    {
     "data": {
      "text/plain": [
       "(3, 3)"
      ]
     },
     "execution_count": 32,
     "metadata": {},
     "output_type": "execute_result"
    }
   ],
   "source": [
    "vstacked.shape"
   ]
  },
  {
   "cell_type": "code",
   "execution_count": 33,
   "metadata": {},
   "outputs": [
    {
     "name": "stdout",
     "output_type": "stream",
     "text": [
      "[[1 1 1]\n",
      " [2 2 2]\n",
      " [3 3 3]]\n"
     ]
    }
   ],
   "source": [
    "vstacked = np.vstack((x,y,z))\n",
    "print(vstacked)"
   ]
  },
  {
   "cell_type": "code",
   "execution_count": 34,
   "metadata": {},
   "outputs": [
    {
     "name": "stdout",
     "output_type": "stream",
     "text": [
      "[1 1 1 2 2 2 3 3 3]\n"
     ]
    }
   ],
   "source": [
    "# hstack \n",
    "hstacked = np.hstack((x,y,z))\n",
    "print(hstacked)"
   ]
  },
  {
   "cell_type": "markdown",
   "metadata": {},
   "source": [
    "### OLS con NumPy"
   ]
  },
  {
   "cell_type": "code",
   "execution_count": null,
   "metadata": {},
   "outputs": [],
   "source": [
    "# X data generation\n",
    "n_data = 200\n",
    "x1 = np.linspace(200, 500, n_data)\n",
    "x0 = np.ones(n_data)\n",
    "X = np.hstack(( x0.reshape(-1, 1 ) , x1.reshape(-1, 1 ) ))\n",
    "\n",
    "print(x1)\n",
    "print(x0)\n",
    "print(X)"
   ]
  },
  {
   "cell_type": "code",
   "execution_count": 41,
   "metadata": {},
   "outputs": [
    {
     "data": {
      "text/plain": [
       "(200, 2)"
      ]
     },
     "execution_count": 41,
     "metadata": {},
     "output_type": "execute_result"
    }
   ],
   "source": [
    "X.shape"
   ]
  },
  {
   "cell_type": "code",
   "execution_count": 51,
   "metadata": {},
   "outputs": [
    {
     "data": {
      "text/plain": [
       "array([[  1.        , 200.        ],\n",
       "       [  1.        , 201.50753769],\n",
       "       [  1.        , 203.01507538],\n",
       "       [  1.        , 204.52261307],\n",
       "       [  1.        , 206.03015075],\n",
       "       [  1.        , 207.53768844],\n",
       "       [  1.        , 209.04522613],\n",
       "       [  1.        , 210.55276382],\n",
       "       [  1.        , 212.06030151],\n",
       "       [  1.        , 213.5678392 ],\n",
       "       [  1.        , 215.07537688],\n",
       "       [  1.        , 216.58291457],\n",
       "       [  1.        , 218.09045226],\n",
       "       [  1.        , 219.59798995],\n",
       "       [  1.        , 221.10552764],\n",
       "       [  1.        , 222.61306533],\n",
       "       [  1.        , 224.12060302],\n",
       "       [  1.        , 225.6281407 ],\n",
       "       [  1.        , 227.13567839],\n",
       "       [  1.        , 228.64321608],\n",
       "       [  1.        , 230.15075377],\n",
       "       [  1.        , 231.65829146],\n",
       "       [  1.        , 233.16582915],\n",
       "       [  1.        , 234.67336683],\n",
       "       [  1.        , 236.18090452],\n",
       "       [  1.        , 237.68844221],\n",
       "       [  1.        , 239.1959799 ],\n",
       "       [  1.        , 240.70351759],\n",
       "       [  1.        , 242.21105528],\n",
       "       [  1.        , 243.71859296],\n",
       "       [  1.        , 245.22613065],\n",
       "       [  1.        , 246.73366834],\n",
       "       [  1.        , 248.24120603],\n",
       "       [  1.        , 249.74874372],\n",
       "       [  1.        , 251.25628141],\n",
       "       [  1.        , 252.7638191 ],\n",
       "       [  1.        , 254.27135678],\n",
       "       [  1.        , 255.77889447],\n",
       "       [  1.        , 257.28643216],\n",
       "       [  1.        , 258.79396985],\n",
       "       [  1.        , 260.30150754],\n",
       "       [  1.        , 261.80904523],\n",
       "       [  1.        , 263.31658291],\n",
       "       [  1.        , 264.8241206 ],\n",
       "       [  1.        , 266.33165829],\n",
       "       [  1.        , 267.83919598],\n",
       "       [  1.        , 269.34673367],\n",
       "       [  1.        , 270.85427136],\n",
       "       [  1.        , 272.36180905],\n",
       "       [  1.        , 273.86934673],\n",
       "       [  1.        , 275.37688442],\n",
       "       [  1.        , 276.88442211],\n",
       "       [  1.        , 278.3919598 ],\n",
       "       [  1.        , 279.89949749],\n",
       "       [  1.        , 281.40703518],\n",
       "       [  1.        , 282.91457286],\n",
       "       [  1.        , 284.42211055],\n",
       "       [  1.        , 285.92964824],\n",
       "       [  1.        , 287.43718593],\n",
       "       [  1.        , 288.94472362],\n",
       "       [  1.        , 290.45226131],\n",
       "       [  1.        , 291.95979899],\n",
       "       [  1.        , 293.46733668],\n",
       "       [  1.        , 294.97487437],\n",
       "       [  1.        , 296.48241206],\n",
       "       [  1.        , 297.98994975],\n",
       "       [  1.        , 299.49748744],\n",
       "       [  1.        , 301.00502513],\n",
       "       [  1.        , 302.51256281],\n",
       "       [  1.        , 304.0201005 ],\n",
       "       [  1.        , 305.52763819],\n",
       "       [  1.        , 307.03517588],\n",
       "       [  1.        , 308.54271357],\n",
       "       [  1.        , 310.05025126],\n",
       "       [  1.        , 311.55778894],\n",
       "       [  1.        , 313.06532663],\n",
       "       [  1.        , 314.57286432],\n",
       "       [  1.        , 316.08040201],\n",
       "       [  1.        , 317.5879397 ],\n",
       "       [  1.        , 319.09547739],\n",
       "       [  1.        , 320.60301508],\n",
       "       [  1.        , 322.11055276],\n",
       "       [  1.        , 323.61809045],\n",
       "       [  1.        , 325.12562814],\n",
       "       [  1.        , 326.63316583],\n",
       "       [  1.        , 328.14070352],\n",
       "       [  1.        , 329.64824121],\n",
       "       [  1.        , 331.15577889],\n",
       "       [  1.        , 332.66331658],\n",
       "       [  1.        , 334.17085427],\n",
       "       [  1.        , 335.67839196],\n",
       "       [  1.        , 337.18592965],\n",
       "       [  1.        , 338.69346734],\n",
       "       [  1.        , 340.20100503],\n",
       "       [  1.        , 341.70854271],\n",
       "       [  1.        , 343.2160804 ],\n",
       "       [  1.        , 344.72361809],\n",
       "       [  1.        , 346.23115578],\n",
       "       [  1.        , 347.73869347],\n",
       "       [  1.        , 349.24623116],\n",
       "       [  1.        , 350.75376884],\n",
       "       [  1.        , 352.26130653],\n",
       "       [  1.        , 353.76884422],\n",
       "       [  1.        , 355.27638191],\n",
       "       [  1.        , 356.7839196 ],\n",
       "       [  1.        , 358.29145729],\n",
       "       [  1.        , 359.79899497],\n",
       "       [  1.        , 361.30653266],\n",
       "       [  1.        , 362.81407035],\n",
       "       [  1.        , 364.32160804],\n",
       "       [  1.        , 365.82914573],\n",
       "       [  1.        , 367.33668342],\n",
       "       [  1.        , 368.84422111],\n",
       "       [  1.        , 370.35175879],\n",
       "       [  1.        , 371.85929648],\n",
       "       [  1.        , 373.36683417],\n",
       "       [  1.        , 374.87437186],\n",
       "       [  1.        , 376.38190955],\n",
       "       [  1.        , 377.88944724],\n",
       "       [  1.        , 379.39698492],\n",
       "       [  1.        , 380.90452261],\n",
       "       [  1.        , 382.4120603 ],\n",
       "       [  1.        , 383.91959799],\n",
       "       [  1.        , 385.42713568],\n",
       "       [  1.        , 386.93467337],\n",
       "       [  1.        , 388.44221106],\n",
       "       [  1.        , 389.94974874],\n",
       "       [  1.        , 391.45728643],\n",
       "       [  1.        , 392.96482412],\n",
       "       [  1.        , 394.47236181],\n",
       "       [  1.        , 395.9798995 ],\n",
       "       [  1.        , 397.48743719],\n",
       "       [  1.        , 398.99497487],\n",
       "       [  1.        , 400.50251256],\n",
       "       [  1.        , 402.01005025],\n",
       "       [  1.        , 403.51758794],\n",
       "       [  1.        , 405.02512563],\n",
       "       [  1.        , 406.53266332],\n",
       "       [  1.        , 408.04020101],\n",
       "       [  1.        , 409.54773869],\n",
       "       [  1.        , 411.05527638],\n",
       "       [  1.        , 412.56281407],\n",
       "       [  1.        , 414.07035176],\n",
       "       [  1.        , 415.57788945],\n",
       "       [  1.        , 417.08542714],\n",
       "       [  1.        , 418.59296482],\n",
       "       [  1.        , 420.10050251],\n",
       "       [  1.        , 421.6080402 ],\n",
       "       [  1.        , 423.11557789],\n",
       "       [  1.        , 424.62311558],\n",
       "       [  1.        , 426.13065327],\n",
       "       [  1.        , 427.63819095],\n",
       "       [  1.        , 429.14572864],\n",
       "       [  1.        , 430.65326633],\n",
       "       [  1.        , 432.16080402],\n",
       "       [  1.        , 433.66834171],\n",
       "       [  1.        , 435.1758794 ],\n",
       "       [  1.        , 436.68341709],\n",
       "       [  1.        , 438.19095477],\n",
       "       [  1.        , 439.69849246],\n",
       "       [  1.        , 441.20603015],\n",
       "       [  1.        , 442.71356784],\n",
       "       [  1.        , 444.22110553],\n",
       "       [  1.        , 445.72864322],\n",
       "       [  1.        , 447.2361809 ],\n",
       "       [  1.        , 448.74371859],\n",
       "       [  1.        , 450.25125628],\n",
       "       [  1.        , 451.75879397],\n",
       "       [  1.        , 453.26633166],\n",
       "       [  1.        , 454.77386935],\n",
       "       [  1.        , 456.28140704],\n",
       "       [  1.        , 457.78894472],\n",
       "       [  1.        , 459.29648241],\n",
       "       [  1.        , 460.8040201 ],\n",
       "       [  1.        , 462.31155779],\n",
       "       [  1.        , 463.81909548],\n",
       "       [  1.        , 465.32663317],\n",
       "       [  1.        , 466.83417085],\n",
       "       [  1.        , 468.34170854],\n",
       "       [  1.        , 469.84924623],\n",
       "       [  1.        , 471.35678392],\n",
       "       [  1.        , 472.86432161],\n",
       "       [  1.        , 474.3718593 ],\n",
       "       [  1.        , 475.87939698],\n",
       "       [  1.        , 477.38693467],\n",
       "       [  1.        , 478.89447236],\n",
       "       [  1.        , 480.40201005],\n",
       "       [  1.        , 481.90954774],\n",
       "       [  1.        , 483.41708543],\n",
       "       [  1.        , 484.92462312],\n",
       "       [  1.        , 486.4321608 ],\n",
       "       [  1.        , 487.93969849],\n",
       "       [  1.        , 489.44723618],\n",
       "       [  1.        , 490.95477387],\n",
       "       [  1.        , 492.46231156],\n",
       "       [  1.        , 493.96984925],\n",
       "       [  1.        , 495.47738693],\n",
       "       [  1.        , 496.98492462],\n",
       "       [  1.        , 498.49246231],\n",
       "       [  1.        , 500.        ]])"
      ]
     },
     "execution_count": 51,
     "metadata": {},
     "output_type": "execute_result"
    }
   ],
   "source": [
    "X"
   ]
  },
  {
   "cell_type": "code",
   "execution_count": null,
   "metadata": {},
   "outputs": [],
   "source": [
    "# Para mayor explicación sobre el reshape(-1,1):\n",
    "# https://stackoverflow.com/questions/18691084/what-does-1-mean-in-numpy-reshape"
   ]
  },
  {
   "cell_type": "code",
   "execution_count": 48,
   "metadata": {},
   "outputs": [
    {
     "name": "stdout",
     "output_type": "stream",
     "text": [
      "[[ 5]\n",
      " [-2]]\n",
      "(2, 1)\n"
     ]
    }
   ],
   "source": [
    "# select parameters\n",
    "beta = np.array([5, -2]).reshape(-1, 1 )\n",
    "print(beta)\n",
    "print(beta.shape)"
   ]
  },
  {
   "cell_type": "code",
   "execution_count": 49,
   "metadata": {},
   "outputs": [
    {
     "data": {
      "text/plain": [
       "(200, 1)"
      ]
     },
     "execution_count": 49,
     "metadata": {},
     "output_type": "execute_result"
    }
   ],
   "source": [
    "# y true\n",
    "y_true = X @ beta\n",
    "y_true.shape"
   ]
  },
  {
   "cell_type": "code",
   "execution_count": null,
   "metadata": {},
   "outputs": [],
   "source": [
    "y_true"
   ]
  },
  {
   "cell_type": "code",
   "execution_count": 53,
   "metadata": {},
   "outputs": [
    {
     "data": {
      "text/plain": [
       "array([[ -404.77888349],\n",
       "       [ -388.21189302],\n",
       "       [ -398.44981367],\n",
       "       [ -400.57835053],\n",
       "       [ -415.46539215],\n",
       "       [ -406.93817727],\n",
       "       [ -413.38626833],\n",
       "       [ -429.53484858],\n",
       "       [ -437.28359065],\n",
       "       [ -414.08707458],\n",
       "       [ -429.44323488],\n",
       "       [ -419.74244249],\n",
       "       [ -440.12354994],\n",
       "       [ -458.78760096],\n",
       "       [ -445.19880012],\n",
       "       [ -429.28719028],\n",
       "       [ -393.06022202],\n",
       "       [ -433.77071189],\n",
       "       [ -441.96466841],\n",
       "       [ -442.11198518],\n",
       "       [ -480.95046248],\n",
       "       [ -477.37231705],\n",
       "       [ -482.67707743],\n",
       "       [ -434.81203093],\n",
       "       [ -470.26037738],\n",
       "       [ -439.77414938],\n",
       "       [ -472.20501735],\n",
       "       [ -487.70250843],\n",
       "       [ -518.58979064],\n",
       "       [ -473.48967561],\n",
       "       [ -514.21141065],\n",
       "       [ -450.71204367],\n",
       "       [ -508.74309196],\n",
       "       [ -490.66320165],\n",
       "       [ -490.50269878],\n",
       "       [ -508.31301409],\n",
       "       [ -498.28695704],\n",
       "       [ -512.23480853],\n",
       "       [ -530.52823284],\n",
       "       [ -533.71320053],\n",
       "       [ -496.82100433],\n",
       "       [ -574.42714158],\n",
       "       [ -502.11112479],\n",
       "       [ -507.60755198],\n",
       "       [ -548.60865624],\n",
       "       [ -508.30830617],\n",
       "       [ -523.63784434],\n",
       "       [ -525.18586748],\n",
       "       [ -534.25333087],\n",
       "       [ -555.57763623],\n",
       "       [ -522.84372056],\n",
       "       [ -563.27558851],\n",
       "       [ -587.27913425],\n",
       "       [ -549.47008066],\n",
       "       [ -602.23107665],\n",
       "       [ -554.6267159 ],\n",
       "       [ -541.29787662],\n",
       "       [ -585.80560625],\n",
       "       [ -540.33332363],\n",
       "       [ -581.77971445],\n",
       "       [ -542.95391574],\n",
       "       [ -568.80295979],\n",
       "       [ -555.54853069],\n",
       "       [ -544.07953951],\n",
       "       [ -588.48165631],\n",
       "       [ -602.24270792],\n",
       "       [ -595.20272599],\n",
       "       [ -579.39273844],\n",
       "       [ -581.10548611],\n",
       "       [ -601.60666389],\n",
       "       [ -606.04432425],\n",
       "       [ -632.78355761],\n",
       "       [ -633.42865364],\n",
       "       [ -593.52555592],\n",
       "       [ -605.12785213],\n",
       "       [ -585.79669959],\n",
       "       [ -619.53850354],\n",
       "       [ -648.46819096],\n",
       "       [ -625.63292138],\n",
       "       [ -661.12474239],\n",
       "       [ -597.02739874],\n",
       "       [ -647.12623849],\n",
       "       [ -647.01753388],\n",
       "       [ -649.06777691],\n",
       "       [ -646.73102638],\n",
       "       [ -649.13778541],\n",
       "       [ -681.3347858 ],\n",
       "       [ -642.95218964],\n",
       "       [ -644.19172958],\n",
       "       [ -642.48158915],\n",
       "       [ -665.4721177 ],\n",
       "       [ -642.27998622],\n",
       "       [ -696.85799614],\n",
       "       [ -726.51533733],\n",
       "       [ -666.10120879],\n",
       "       [ -684.41131684],\n",
       "       [ -660.00691606],\n",
       "       [ -679.22635682],\n",
       "       [ -708.46456701],\n",
       "       [ -666.0012302 ],\n",
       "       [ -705.88779671],\n",
       "       [ -706.99168618],\n",
       "       [ -725.69109208],\n",
       "       [ -697.53143171],\n",
       "       [ -723.2703639 ],\n",
       "       [ -707.9530928 ],\n",
       "       [ -734.66020486],\n",
       "       [ -714.62260818],\n",
       "       [ -742.23130566],\n",
       "       [ -730.004503  ],\n",
       "       [ -762.23080319],\n",
       "       [ -728.21436629],\n",
       "       [ -745.58889926],\n",
       "       [ -731.56110222],\n",
       "       [ -724.49684641],\n",
       "       [ -758.85146629],\n",
       "       [ -760.68682025],\n",
       "       [ -743.89152373],\n",
       "       [ -756.0858571 ],\n",
       "       [ -745.91453555],\n",
       "       [ -777.26980615],\n",
       "       [ -754.80524774],\n",
       "       [ -760.94975987],\n",
       "       [ -777.67988425],\n",
       "       [ -786.78221514],\n",
       "       [ -787.43264234],\n",
       "       [ -742.88043731],\n",
       "       [ -757.24155871],\n",
       "       [ -828.64487711],\n",
       "       [ -763.88743581],\n",
       "       [ -783.72012117],\n",
       "       [ -771.84828077],\n",
       "       [ -774.17923735],\n",
       "       [ -819.18595765],\n",
       "       [ -798.63327861],\n",
       "       [ -773.64838999],\n",
       "       [ -784.24498953],\n",
       "       [ -813.33869511],\n",
       "       [ -799.91637338],\n",
       "       [ -821.22696897],\n",
       "       [ -819.37379793],\n",
       "       [ -805.46420602],\n",
       "       [ -839.13047822],\n",
       "       [ -830.35230867],\n",
       "       [ -858.41125091],\n",
       "       [ -850.18387636],\n",
       "       [ -825.88008163],\n",
       "       [ -805.74606346],\n",
       "       [ -854.75072304],\n",
       "       [ -859.9969034 ],\n",
       "       [ -822.22278786],\n",
       "       [ -838.70300135],\n",
       "       [ -862.71428193],\n",
       "       [ -878.32223932],\n",
       "       [ -856.67121225],\n",
       "       [ -845.81510189],\n",
       "       [ -876.57065865],\n",
       "       [ -845.47377636],\n",
       "       [ -866.72604599],\n",
       "       [ -864.20945183],\n",
       "       [ -899.38456269],\n",
       "       [ -890.99915756],\n",
       "       [ -889.55101965],\n",
       "       [ -872.03055806],\n",
       "       [ -908.85219969],\n",
       "       [ -897.26413363],\n",
       "       [ -912.06548215],\n",
       "       [ -875.24297999],\n",
       "       [ -893.70705181],\n",
       "       [ -902.88181531],\n",
       "       [ -888.87435773],\n",
       "       [ -910.64823536],\n",
       "       [ -921.34582328],\n",
       "       [ -904.63934431],\n",
       "       [ -897.24267378],\n",
       "       [ -889.83482128],\n",
       "       [ -894.90641503],\n",
       "       [ -901.88171337],\n",
       "       [ -977.08962954],\n",
       "       [ -943.57813494],\n",
       "       [ -928.4303962 ],\n",
       "       [ -945.2532964 ],\n",
       "       [ -936.02056121],\n",
       "       [ -919.05214737],\n",
       "       [ -934.02003485],\n",
       "       [ -935.67755352],\n",
       "       [ -969.26260608],\n",
       "       [ -938.15602667],\n",
       "       [ -977.4608607 ],\n",
       "       [ -956.48642948],\n",
       "       [ -938.96861177],\n",
       "       [ -967.75859762],\n",
       "       [ -990.56435047],\n",
       "       [-1014.24483441],\n",
       "       [ -986.88257762],\n",
       "       [ -963.4263289 ],\n",
       "       [-1001.9116761 ],\n",
       "       [ -980.2357521 ],\n",
       "       [-1003.42396741],\n",
       "       [-1009.89102613]])"
      ]
     },
     "execution_count": 53,
     "metadata": {},
     "output_type": "execute_result"
    }
   ],
   "source": [
    "y_true + (np.random.normal(0, 1, n_data) * 20).reshape(-1, 1)"
   ]
  },
  {
   "cell_type": "code",
   "execution_count": 54,
   "metadata": {},
   "outputs": [
    {
     "name": "stdout",
     "output_type": "stream",
     "text": [
      "[[-424.07632452]\n",
      " [-392.18385441]\n",
      " [-419.59926173]\n",
      " [-416.72550243]]\n"
     ]
    }
   ],
   "source": [
    "#   add random normal noise\n",
    "sigma = 20\n",
    "y_actual = y_true + (np.random.normal(0, 1, n_data) * sigma).reshape(-1, 1)\n",
    "print(y_actual[0:4, :])"
   ]
  },
  {
   "cell_type": "markdown",
   "metadata": {},
   "source": [
    "The matrix equation for the estimated linear parameters is as below:\n",
    "$${\\hat {\\beta }}=(X^{T}X)^{-1}X^{T}y.$$"
   ]
  },
  {
   "cell_type": "code",
   "execution_count": 56,
   "metadata": {},
   "outputs": [
    {
     "data": {
      "text/plain": [
       "array([[-3.01696165],\n",
       "       [-1.98369919]])"
      ]
     },
     "execution_count": 56,
     "metadata": {},
     "output_type": "execute_result"
    }
   ],
   "source": [
    "# estimations\n",
    "beta_estimated = np.linalg.inv(X.T @ X) @ X.T @ y_actual\n",
    "beta_estimated"
   ]
  },
  {
   "cell_type": "code",
   "execution_count": 67,
   "metadata": {},
   "outputs": [
    {
     "name": "stderr",
     "output_type": "stream",
     "text": [
      "/var/folders/v3/40svjrx14hq103xfyw7qhzsh0000gn/T/ipykernel_1528/3055057328.py:4: UserWarning: color is redundantly defined by the 'color' keyword argument and the fmt string \"g-\" (-> color='g'). The keyword argument will take precedence.\n",
      "  plt.plot(x1, y_true, 'g-', c = 'black')\n"
     ]
    },
    {
     "data": {
      "text/plain": [
       "[<matplotlib.lines.Line2D at 0x127766b90>]"
      ]
     },
     "execution_count": 67,
     "metadata": {},
     "output_type": "execute_result"
    },
    {
     "data": {
      "image/png": "[encoded data removed]",
      "text/plain": [
       "<Figure size 640x480 with 1 Axes>"
      ]
     },
     "metadata": {},
     "output_type": "display_data"
    }
   ],
   "source": [
    "import matplotlib.pyplot as plt\n",
    "\n",
    "plt.plot(x1, y_actual, 'o')\n",
    "plt.plot(x1, y_true, 'g-', c = 'black')"
   ]
  },
  {
   "cell_type": "markdown",
   "metadata": {},
   "source": [
    "Calculate the sum of squared residual errors\n",
    "$$\n",
    "RSS=y^{T}y-y^{T}X(X^{T}X)^{{-1}}X^{T}y\n",
    "$$"
   ]
  },
  {
   "cell_type": "code",
   "execution_count": 68,
   "metadata": {},
   "outputs": [
    {
     "data": {
      "text/plain": [
       "array([[ -424.07632452],\n",
       "       [ -392.18385441],\n",
       "       [ -419.59926173],\n",
       "       [ -416.72550243],\n",
       "       [ -414.80678065],\n",
       "       [ -416.31108725],\n",
       "       [ -427.84521569],\n",
       "       [ -453.83122961],\n",
       "       [ -445.1681567 ],\n",
       "       [ -388.69601717],\n",
       "       [ -452.36881543],\n",
       "       [ -437.0277357 ],\n",
       "       [ -431.13009242],\n",
       "       [ -393.90550754],\n",
       "       [ -405.10893675],\n",
       "       [ -479.046804  ],\n",
       "       [ -433.32628028],\n",
       "       [ -455.32393584],\n",
       "       [ -432.44506871],\n",
       "       [ -464.77972147],\n",
       "       [ -445.01198414],\n",
       "       [ -444.71087818],\n",
       "       [ -470.15503325],\n",
       "       [ -421.10467713],\n",
       "       [ -428.73889757],\n",
       "       [ -497.54404048],\n",
       "       [ -499.3742732 ],\n",
       "       [ -491.37586591],\n",
       "       [ -494.0536974 ],\n",
       "       [ -532.73157113],\n",
       "       [ -509.78932545],\n",
       "       [ -522.27069204],\n",
       "       [ -484.10760561],\n",
       "       [ -527.12928073],\n",
       "       [ -512.65656991],\n",
       "       [ -486.56986407],\n",
       "       [ -505.71852071],\n",
       "       [ -518.68978794],\n",
       "       [ -542.73919013],\n",
       "       [ -534.13815543],\n",
       "       [ -510.72900081],\n",
       "       [ -506.55208315],\n",
       "       [ -557.40964259],\n",
       "       [ -492.60766349],\n",
       "       [ -525.37213205],\n",
       "       [ -524.97133238],\n",
       "       [ -529.69623097],\n",
       "       [ -545.13903374],\n",
       "       [ -519.5159129 ],\n",
       "       [ -529.51636194],\n",
       "       [ -489.55094187],\n",
       "       [ -567.13852695],\n",
       "       [ -560.97990615],\n",
       "       [ -588.30449089],\n",
       "       [ -574.01831718],\n",
       "       [ -544.1731729 ],\n",
       "       [ -560.95674558],\n",
       "       [ -581.31201857],\n",
       "       [ -557.47323841],\n",
       "       [ -566.18440628],\n",
       "       [ -592.62225355],\n",
       "       [ -609.35339805],\n",
       "       [ -620.118762  ],\n",
       "       [ -592.81175845],\n",
       "       [ -619.10167638],\n",
       "       [ -606.01996761],\n",
       "       [ -552.47906517],\n",
       "       [ -621.15512574],\n",
       "       [ -632.81447117],\n",
       "       [ -590.72037111],\n",
       "       [ -613.81270378],\n",
       "       [ -578.84152789],\n",
       "       [ -608.20153152],\n",
       "       [ -631.74807718],\n",
       "       [ -620.01404278],\n",
       "       [ -657.79807746],\n",
       "       [ -616.60675939],\n",
       "       [ -608.31799863],\n",
       "       [ -609.61747507],\n",
       "       [ -598.91037458],\n",
       "       [ -625.8949096 ],\n",
       "       [ -597.52931031],\n",
       "       [ -639.99118933],\n",
       "       [ -639.25191236],\n",
       "       [ -639.96084152],\n",
       "       [ -646.42900801],\n",
       "       [ -628.53663713],\n",
       "       [ -678.06303606],\n",
       "       [ -664.35952301],\n",
       "       [ -636.50134364],\n",
       "       [ -681.82489175],\n",
       "       [ -667.70251787],\n",
       "       [ -709.15569959],\n",
       "       [ -676.04621577],\n",
       "       [ -670.56837177],\n",
       "       [ -696.02165311],\n",
       "       [ -703.82998743],\n",
       "       [ -675.05305119],\n",
       "       [ -698.19064538],\n",
       "       [ -708.23315448],\n",
       "       [ -673.14999557],\n",
       "       [ -732.41568188],\n",
       "       [ -723.75102675],\n",
       "       [ -715.58078442],\n",
       "       [ -771.38591321],\n",
       "       [ -713.35944213],\n",
       "       [ -713.02153252],\n",
       "       [ -696.6787236 ],\n",
       "       [ -690.25070761],\n",
       "       [ -726.14485193],\n",
       "       [ -716.0622536 ],\n",
       "       [ -764.64805041],\n",
       "       [ -735.4642343 ],\n",
       "       [ -740.62493792],\n",
       "       [ -717.47216659],\n",
       "       [ -715.39093946],\n",
       "       [ -717.50028724],\n",
       "       [ -730.15157026],\n",
       "       [ -744.31857465],\n",
       "       [ -747.18616588],\n",
       "       [ -794.83658783],\n",
       "       [ -780.52776722],\n",
       "       [ -739.56370823],\n",
       "       [ -766.41690354],\n",
       "       [ -801.59216613],\n",
       "       [ -756.37172574],\n",
       "       [ -789.29128545],\n",
       "       [ -782.74184798],\n",
       "       [ -784.56336988],\n",
       "       [ -769.31172642],\n",
       "       [ -764.33005392],\n",
       "       [ -759.97677601],\n",
       "       [ -781.91303304],\n",
       "       [ -783.54445109],\n",
       "       [ -822.44607443],\n",
       "       [ -812.96928653],\n",
       "       [ -824.96880211],\n",
       "       [ -804.30462878],\n",
       "       [ -825.22962598],\n",
       "       [ -817.45489642],\n",
       "       [ -804.49333684],\n",
       "       [ -802.48289379],\n",
       "       [ -823.38267989],\n",
       "       [ -832.79075543],\n",
       "       [ -809.14455935],\n",
       "       [ -855.28571809],\n",
       "       [ -829.69748915],\n",
       "       [ -829.34100574],\n",
       "       [ -882.67934492],\n",
       "       [ -836.10017614],\n",
       "       [ -839.72191681],\n",
       "       [ -874.39734841],\n",
       "       [ -869.28585943],\n",
       "       [ -873.47898419],\n",
       "       [ -870.85917631],\n",
       "       [ -863.96140637],\n",
       "       [ -889.99504784],\n",
       "       [ -870.05286998],\n",
       "       [ -880.7581663 ],\n",
       "       [ -882.58129344],\n",
       "       [ -861.77392517],\n",
       "       [ -872.51098963],\n",
       "       [ -888.95098738],\n",
       "       [ -866.00027053],\n",
       "       [ -876.84248813],\n",
       "       [ -874.88545334],\n",
       "       [ -904.06262328],\n",
       "       [ -888.8158403 ],\n",
       "       [ -909.47455616],\n",
       "       [ -935.27259905],\n",
       "       [ -924.96918836],\n",
       "       [ -886.98069825],\n",
       "       [ -905.40778851],\n",
       "       [ -934.61910848],\n",
       "       [ -952.40039468],\n",
       "       [ -938.92639249],\n",
       "       [ -933.83853824],\n",
       "       [ -917.0904762 ],\n",
       "       [ -928.32379741],\n",
       "       [ -902.00937585],\n",
       "       [ -919.94548737],\n",
       "       [ -930.57708294],\n",
       "       [ -938.76002129],\n",
       "       [ -965.28111834],\n",
       "       [ -960.90727511],\n",
       "       [ -973.50815512],\n",
       "       [ -925.61552124],\n",
       "       [ -965.48220751],\n",
       "       [ -989.74898384],\n",
       "       [ -962.48521149],\n",
       "       [ -965.25653912],\n",
       "       [ -970.4794381 ],\n",
       "       [ -958.26393486],\n",
       "       [ -989.3581101 ],\n",
       "       [ -986.22001578],\n",
       "       [ -969.38516345],\n",
       "       [ -976.44095894],\n",
       "       [-1027.93343695],\n",
       "       [ -982.4988674 ],\n",
       "       [ -985.50296825]])"
      ]
     },
     "execution_count": 68,
     "metadata": {},
     "output_type": "execute_result"
    }
   ],
   "source": [
    "y_actual"
   ]
  },
  {
   "cell_type": "code",
   "execution_count": 70,
   "metadata": {},
   "outputs": [
    {
     "data": {
      "text/plain": [
       "array([[85080.35807836]])"
      ]
     },
     "execution_count": 70,
     "metadata": {},
     "output_type": "execute_result"
    }
   ],
   "source": [
    "RSS = ( y_actual.T @ y_actual - y_actual.T @ X @ np.linalg.inv(X.T @ X) @ X.T @ y_actual )\n",
    "RSS"
   ]
  },
  {
   "cell_type": "markdown",
   "metadata": {},
   "source": [
    "Calculated the Total Sum of Squares of the spread of the actual (noisy) values around their mean\n",
    "$$\n",
    "TSS=(y-{\\bar  y})^{T}(y-{\\bar  y})=y^{T}y-2y^{T}{\\bar  y}+{\\bar  y}^{T}{\\bar  y}\n",
    "$$"
   ]
  },
  {
   "cell_type": "code",
   "execution_count": 71,
   "metadata": {},
   "outputs": [
    {
     "data": {
      "text/plain": [
       "array([[6046996.59314532]])"
      ]
     },
     "execution_count": 71,
     "metadata": {},
     "output_type": "execute_result"
    }
   ],
   "source": [
    "y_mean = ( np.ones(n_data) * np.mean(y_actual) ).reshape( -1 , 1 )\n",
    "TSS = (y_actual - y_mean).T @ (y_actual - y_mean)\n",
    "TSS"
   ]
  },
  {
   "cell_type": "code",
   "execution_count": 72,
   "metadata": {},
   "outputs": [],
   "source": [
    "# get predictions\n",
    "y_pred = X @ beta_estimated"
   ]
  },
  {
   "cell_type": "markdown",
   "metadata": {},
   "source": [
    "Calculate the Sum of Squares of the spread of the predictions around their mean.\n",
    "$$\n",
    "ESS=({\\hat  y}-{\\bar  y})^{T}({\\hat  y}-{\\bar  y})={\\hat  y}^{T}{\\hat  y}-2{\\hat  y}^{T}{\\bar  y}+{\\bar  y}^{T}{\\bar  y}\n",
    "$$"
   ]
  },
  {
   "cell_type": "code",
   "execution_count": 73,
   "metadata": {},
   "outputs": [
    {
     "data": {
      "text/plain": [
       "array([[5961916.23506711]])"
      ]
     },
     "execution_count": 73,
     "metadata": {},
     "output_type": "execute_result"
    }
   ],
   "source": [
    "ESS = (y_pred - y_mean).T @ (y_pred - y_mean)\n",
    "ESS"
   ]
  },
  {
   "cell_type": "code",
   "execution_count": 74,
   "metadata": {},
   "outputs": [
    {
     "data": {
      "text/plain": [
       "(array([[6046996.59314532]]), array([[6046996.59314547]]))"
      ]
     },
     "execution_count": 74,
     "metadata": {},
     "output_type": "execute_result"
    }
   ],
   "source": [
    "TSS, ESS + RSS"
   ]
  },
  {
   "cell_type": "markdown",
   "metadata": {},
   "source": [
    "Get $R^2$\n",
    "$$\n",
    "1 - RSS / TSS\n",
    "$$"
   ]
  },
  {
   "cell_type": "code",
   "execution_count": 75,
   "metadata": {},
   "outputs": [
    {
     "data": {
      "text/plain": [
       "array([[0.98593015]])"
      ]
     },
     "execution_count": 75,
     "metadata": {},
     "output_type": "execute_result"
    }
   ],
   "source": [
    "1 - RSS / TSS"
   ]
  },
  {
   "cell_type": "markdown",
   "metadata": {},
   "source": [
    "###  SE\n",
    "Calculate the standard error of the regression. We divide by `(n-2)`, because the Expectation of the sum of squares is `(n-2)*sigma^2`."
   ]
  },
  {
   "cell_type": "code",
   "execution_count": 76,
   "metadata": {},
   "outputs": [
    {
     "data": {
      "text/plain": [
       "array([[20.72917698]])"
      ]
     },
     "execution_count": 76,
     "metadata": {},
     "output_type": "execute_result"
    }
   ],
   "source": [
    "sr2 = ( (1 / (n_data - 2)) * (y_pred - y_actual).T  @ (y_pred - y_actual))\n",
    "sr = np.sqrt(sr2)\n",
    "sr"
   ]
  },
  {
   "cell_type": "markdown",
   "metadata": {},
   "source": [
    "### Var-Cov\n",
    "In order to get the standard errors for our linear parameters, we use the matrix formula below:\n",
    "$$\n",
    "Var(β^ )=σ^2(X′X)^{-1}\n",
    "$$"
   ]
  },
  {
   "cell_type": "code",
   "execution_count": 77,
   "metadata": {},
   "outputs": [
    {
     "data": {
      "text/plain": [
       "array([[ 3.68913860e+01, -9.92654060e-02],\n",
       "       [-9.92654060e-02,  2.83615446e-04]])"
      ]
     },
     "execution_count": 77,
     "metadata": {},
     "output_type": "execute_result"
    }
   ],
   "source": [
    "var_beta = sr2 * np.linalg.inv(X.T @ X)\n",
    "var_beta"
   ]
  },
  {
   "cell_type": "code",
   "execution_count": 78,
   "metadata": {},
   "outputs": [
    {
     "name": "stdout",
     "output_type": "stream",
     "text": [
      "Std Error for b0 6.073827951146486, \n",
      "Std Error for b1 0.016840886129495636\n"
     ]
    }
   ],
   "source": [
    "print(\n",
    "    f'Std Error for b0 {np.sqrt(var_beta[0, 0])}, \\nStd Error for b1 {np.sqrt(var_beta[1, 1])}'\n",
    ")"
   ]
  },
  {
   "cell_type": "markdown",
   "metadata": {},
   "source": [
    "## Exercise"
   ]
  },
  {
   "cell_type": "markdown",
   "metadata": {},
   "source": [
    "*Example extracted from Dataquest course \"Data Analyst in Python\"*"
   ]
  },
  {
   "cell_type": "markdown",
   "metadata": {},
   "source": [
    "Let's work with a subset of the New York City taxi trip data released by the city. We'll focus on about 90,000 yellow taxi trips to and from various NYC airports between January and June 2016. Here are some selected columns from the dataset:\n",
    "\n",
    "- `pickup_month`: the month of the trip (January is 1, December is 12)\n",
    "- `pickup_day`: the day of the month of the trip\n",
    "- `pickup_location_code`: the airport or borough where the trip started\n",
    "- `dropoff_location_code`: the airport or borough where the trip ended\n",
    "- `trip_distance`: the distance of the trip in miles\n",
    "- `trip_length`: the length of the trip in seconds\n",
    "- `fare_amount`: the base fare of the trip, in dollars\n",
    "- `total_amount`: the total amount charged to the passenger, including all fees, tolls, and tips\n",
    "\n",
    "\n",
    "Review the dictionary data [here](https://s3.amazonaws.com/dq-content/289/nyc_taxi_data_dictionary.md).\n",
    "\n",
    "Our data is stored in a CSV file called `nyc_taxis.csv`\n"
   ]
  },
  {
   "cell_type": "code",
   "execution_count": 79,
   "metadata": {},
   "outputs": [
    {
     "data": {
      "text/plain": [
       "'/Volumes/VFC/Dropbox/Fundamentos de Programación en Python para Macroeconomía y Finanzas/verano-2024-macro-finance/2. Basic objects & Numpy'"
      ]
     },
     "execution_count": 79,
     "metadata": {},
     "output_type": "execute_result"
    }
   ],
   "source": [
    "pwd"
   ]
  },
  {
   "cell_type": "code",
   "execution_count": null,
   "metadata": {},
   "outputs": [],
   "source": [
    "import csv\n",
    "# import nyc_taxi.csv as a list of lists\n",
    "f = open(\"data/nyc_taxis.csv\", \"r\")\n",
    "taxi_list = list(csv.reader(f))\n",
    "\n",
    "# remove the header row\n",
    "taxi_list = taxi_list[1:]\n",
    "\n",
    "# convert all values to floats\n",
    "converted_taxi_list = []\n",
    "for row in taxi_list:\n",
    "    converted_row = []\n",
    "    for element in row:\n",
    "        converted_row.append(float(element))\n",
    "    converted_taxi_list.append(converted_row)"
   ]
  },
  {
   "cell_type": "markdown",
   "metadata": {},
   "source": [
    "Add a single line of code using the `numpy.array()` constructor to convert the `converted_taxi_list` variable to a NumPy ndarray, and assign the result to the variable name `taxi`"
   ]
  },
  {
   "cell_type": "code",
   "execution_count": 84,
   "metadata": {},
   "outputs": [],
   "source": [
    "# Solution\n",
    "taxi = np.array(converted_taxi_list)"
   ]
  },
  {
   "cell_type": "markdown",
   "metadata": {},
   "source": [
    "Let´s explore our dataset"
   ]
  },
  {
   "cell_type": "code",
   "execution_count": 85,
   "metadata": {},
   "outputs": [
    {
     "data": {
      "text/plain": [
       "array([[2.016e+03, 1.000e+00, 1.000e+00, ..., 1.165e+01, 6.999e+01,\n",
       "        1.000e+00],\n",
       "       [2.016e+03, 1.000e+00, 1.000e+00, ..., 8.000e+00, 5.430e+01,\n",
       "        1.000e+00],\n",
       "       [2.016e+03, 1.000e+00, 1.000e+00, ..., 0.000e+00, 3.780e+01,\n",
       "        2.000e+00],\n",
       "       ...,\n",
       "       [2.016e+03, 6.000e+00, 3.000e+01, ..., 5.000e+00, 6.334e+01,\n",
       "        1.000e+00],\n",
       "       [2.016e+03, 6.000e+00, 3.000e+01, ..., 8.950e+00, 4.475e+01,\n",
       "        1.000e+00],\n",
       "       [2.016e+03, 6.000e+00, 3.000e+01, ..., 0.000e+00, 5.484e+01,\n",
       "        2.000e+00]])"
      ]
     },
     "execution_count": 85,
     "metadata": {},
     "output_type": "execute_result"
    }
   ],
   "source": [
    "taxi"
   ]
  },
  {
   "cell_type": "markdown",
   "metadata": {},
   "source": [
    "How many columns and rows?"
   ]
  },
  {
   "cell_type": "code",
   "execution_count": 86,
   "metadata": {},
   "outputs": [
    {
     "data": {
      "text/plain": [
       "(2013, 15)"
      ]
     },
     "execution_count": 86,
     "metadata": {},
     "output_type": "execute_result"
    }
   ],
   "source": [
    "# Solution\n",
    "taxi.shape"
   ]
  },
  {
   "cell_type": "markdown",
   "metadata": {},
   "source": [
    "Select the rows at indices 100 to 200 inclusive for the columns at indices 9 to 13 inclusive (fare amount, fees amount, tolls amount, tip amount, total amount). Assign the result to `rows_100_to_200_column_9_to_13`"
   ]
  },
  {
   "cell_type": "code",
   "execution_count": 90,
   "metadata": {},
   "outputs": [
    {
     "data": {
      "text/plain": [
       "(101, 5)"
      ]
     },
     "execution_count": 90,
     "metadata": {},
     "output_type": "execute_result"
    }
   ],
   "source": [
    "# Solution\n",
    "rows_100_to_200_column_9_to_13 = taxi[100:201, 9:14]\n",
    "rows_100_to_200_column_9_to_13.shape"
   ]
  },
  {
   "cell_type": "markdown",
   "metadata": {},
   "source": [
    "Considering the following variables, calculate a new variables `trip_mph`"
   ]
  },
  {
   "cell_type": "code",
   "execution_count": 91,
   "metadata": {},
   "outputs": [],
   "source": [
    "trip_distance_miles = taxi[:, 7]\n",
    "trip_length_seconds = taxi[:, 8]\n",
    "trip_length_hours = trip_length_seconds / 3600 # there are 3600 seconds in one hour"
   ]
  },
  {
   "cell_type": "code",
   "execution_count": 93,
   "metadata": {},
   "outputs": [
    {
     "data": {
      "text/plain": [
       "array([37.11340206, 38.58157895, 31.27222982, ..., 22.29907867,\n",
       "       42.41551247, 36.90473407])"
      ]
     },
     "execution_count": 93,
     "metadata": {},
     "output_type": "execute_result"
    }
   ],
   "source": [
    "# Solution\n",
    "trip_mph = trip_distance_miles / trip_length_hours\n",
    "trip_mph"
   ]
  },
  {
   "cell_type": "markdown",
   "metadata": {},
   "source": [
    "Calculate the average speed of `trip_mph`"
   ]
  },
  {
   "cell_type": "code",
   "execution_count": 97,
   "metadata": {},
   "outputs": [
    {
     "data": {
      "text/plain": [
       "169.98315083655157"
      ]
     },
     "execution_count": 97,
     "metadata": {},
     "output_type": "execute_result"
    }
   ],
   "source": [
    "# Solution\n",
    "trip_mph.mean()"
   ]
  },
  {
   "cell_type": "markdown",
   "metadata": {},
   "source": [
    "Calculate the sum of each row in `fare_components`"
   ]
  },
  {
   "cell_type": "code",
   "execution_count": 102,
   "metadata": {},
   "outputs": [
    {
     "data": {
      "text/plain": [
       "array([[52.  ,  0.8 ,  5.54, 11.65],\n",
       "       [45.  ,  1.3 ,  0.  ,  8.  ],\n",
       "       [36.5 ,  1.3 ,  0.  ,  0.  ],\n",
       "       [26.  ,  1.3 ,  0.  ,  5.46],\n",
       "       [17.5 ,  1.3 ,  0.  ,  0.  ]])"
      ]
     },
     "execution_count": 102,
     "metadata": {},
     "output_type": "execute_result"
    }
   ],
   "source": [
    "# extract the first 5 rows only\n",
    "taxi_first_five = taxi[:5]\n",
    "# # select columns: fare_amount, fees_amount, tolls_amount, and tip_amount\n",
    "fare_components = taxi_first_five[:, 9:13]\n",
    "fare_components"
   ]
  },
  {
   "cell_type": "code",
   "execution_count": 105,
   "metadata": {},
   "outputs": [
    {
     "data": {
      "text/plain": [
       "array([69.99, 54.3 , 37.8 , 32.76, 18.8 ])"
      ]
     },
     "execution_count": 105,
     "metadata": {},
     "output_type": "execute_result"
    }
   ],
   "source": [
    "# Solution\n",
    "fare_total=fare_components.sum(axis=1)  # para cada fila\n",
    "fare_total"
   ]
  },
  {
   "cell_type": "code",
   "execution_count": 107,
   "metadata": {},
   "outputs": [
    {
     "data": {
      "text/plain": [
       "array([[52.  ,  0.8 ,  5.54, 11.65, 69.99],\n",
       "       [45.  ,  1.3 ,  0.  ,  8.  , 54.3 ],\n",
       "       [36.5 ,  1.3 ,  0.  ,  0.  , 37.8 ],\n",
       "       [26.  ,  1.3 ,  0.  ,  5.46, 32.76],\n",
       "       [17.5 ,  1.3 ,  0.  ,  0.  , 18.8 ]])"
      ]
     },
     "execution_count": 107,
     "metadata": {},
     "output_type": "execute_result"
    }
   ],
   "source": [
    "fare_components2 = taxi_first_five[:, 9:14]\n",
    "fare_components2"
   ]
  },
  {
   "cell_type": "markdown",
   "metadata": {},
   "source": []
  }
 ],
 "metadata": {
  "hide_input": false,
  "kernelspec": {
   "display_name": "Python 3 (ipykernel)",
   "language": "python",
   "name": "python3"
  },
  "language_info": {
   "codemirror_mode": {
    "name": "ipython",
    "version": 3
   },
   "file_extension": ".py",
   "mimetype": "text/x-python",
   "name": "python",
   "nbconvert_exporter": "python",
   "pygments_lexer": "ipython3",
   "version": "3.11.7"
  },
  "vscode": {
   "interpreter": {
    "hash": "b247a10ecbbbecc6838db24cf0cac95fbd318f0e8104436862772c94dc5e78c9"
   }
  }
 },
 "nbformat": 4,
 "nbformat_minor": 4
}
